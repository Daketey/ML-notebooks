{
 "cells": [
  {
   "cell_type": "code",
   "execution_count": 1,
   "metadata": {},
   "outputs": [
    {
     "name": "stderr",
     "output_type": "stream",
     "text": [
      "Using TensorFlow backend.\n",
      "C:\\Users\\KIIT\\Anaconda3\\lib\\site-packages\\dask\\dataframe\\utils.py:13: FutureWarning: pandas.util.testing is deprecated. Use the functions in the public API at pandas.testing instead.\n",
      "  import pandas.util.testing as tm\n"
     ]
    }
   ],
   "source": [
    "import numpy as np\n",
    "import matplotlib.pyplot as plt\n",
    "%matplotlib inline\n",
    "import tensorflow as tf\n",
    "import pandas as pd\n",
    "import numpy as np\n",
    "import keras\n",
    "import os\n",
    "import pywt"
   ]
  },
  {
   "cell_type": "code",
   "execution_count": 2,
   "metadata": {},
   "outputs": [],
   "source": [
    "from keras.utils import to_categorical"
   ]
  },
  {
   "cell_type": "code",
   "execution_count": 3,
   "metadata": {},
   "outputs": [],
   "source": [
    "trainset=pd.read_excel(r\"C:/Users/KIIT/Dataset/Classification_Dataset/TrainingSet.xlsx\" , names =['vale1','vale2','vale3','vale4','vale5','vale6','vale7','vale8','vale9','vale10'])\n",
    "trainlab=pd.read_excel(r\"C:/Users/KIIT/Dataset/Classification_Dataset/Training Label.xlsx\" , names = ['labels'])"
   ]
  },
  {
   "cell_type": "code",
   "execution_count": 4,
   "metadata": {},
   "outputs": [],
   "source": [
    "trainset.insert(10 ,'labels' , trainlab)"
   ]
  },
  {
   "cell_type": "code",
   "execution_count": 5,
   "metadata": {},
   "outputs": [
    {
     "data": {
      "text/plain": [
       "(17740, 11)"
      ]
     },
     "execution_count": 5,
     "metadata": {},
     "output_type": "execute_result"
    }
   ],
   "source": [
    "trainset.shape                   "
   ]
  },
  {
   "cell_type": "code",
   "execution_count": 6,
   "metadata": {},
   "outputs": [],
   "source": [
    "testset =pd.read_excel(r\"C:/Users/KIIT/Dataset/Classification_Dataset/TestingSet.xlsx\", names =['vale1','vale2','vale3','vale4','vale5','vale6','vale7','vale8','vale9','vale10'])\n",
    "testlab =pd.read_excel(r\"C:/Users/KIIT/Dataset/Classification_Dataset/Testing Label.xlsx\", names = ['labels' ,'n','n','n','n','n','n'])"
   ]
  },
  {
   "cell_type": "code",
   "execution_count": 7,
   "metadata": {},
   "outputs": [],
   "source": [
    "data =pd.read_excel(r\"C:\\Users\\KIIT\\Desktop\\Dataset\\Feature Extraction\\Data.xlsx\")"
   ]
  },
  {
   "cell_type": "code",
   "execution_count": 8,
   "metadata": {},
   "outputs": [],
   "source": [
    "datalabels =pd.read_excel(r\"C:/Users/KIIT/Desktop/Dataset/Feature Extraction/DataTarget.xlsx\" , names = ['labels'])"
   ]
  },
  {
   "cell_type": "code",
   "execution_count": 9,
   "metadata": {},
   "outputs": [],
   "source": [
    "data_new = data.values"
   ]
  },
  {
   "cell_type": "code",
   "execution_count": 10,
   "metadata": {},
   "outputs": [
    {
     "data": {
      "text/plain": [
       "(26199, 252)"
      ]
     },
     "execution_count": 10,
     "metadata": {},
     "output_type": "execute_result"
    }
   ],
   "source": [
    "data_new.shape"
   ]
  },
  {
   "cell_type": "code",
   "execution_count": 11,
   "metadata": {},
   "outputs": [],
   "source": [
    "features = np.zeros((data_new.shape[0] , 10))"
   ]
  },
  {
   "cell_type": "code",
   "execution_count": 12,
   "metadata": {},
   "outputs": [],
   "source": [
    "for i in range(data_new.shape[0]):\n",
    "    c1,c2,c3,c4,c5,c6 = pywt.wavedec(data_new[i] , 'db2' , level = 5)\n",
    "    features[i] = c1"
   ]
  },
  {
   "cell_type": "code",
   "execution_count": 13,
   "metadata": {},
   "outputs": [
    {
     "data": {
      "text/plain": [
       "array([[-0.01693988, -0.06242895,  0.42723719, ..., -0.36325445,\n",
       "         0.21192443,  0.0053735 ],\n",
       "       [-0.04417937, -0.07050248,  0.45879571, ..., -0.29231869,\n",
       "         0.15261159, -0.01807312],\n",
       "       [-0.07398974, -0.11061738,  0.42422632, ..., -0.35407505,\n",
       "         0.16527052,  0.05116417],\n",
       "       ...,\n",
       "       [ 0.8910666 ,  0.80407291, -0.97728883, ...,  2.28311289,\n",
       "        -0.3528441 ,  0.27655481],\n",
       "       [ 1.09324205,  1.04910019, -0.502545  , ...,  1.88387412,\n",
       "        -0.44220315,  0.53649295],\n",
       "       [ 0.54026873,  0.4139315 , -0.56594744, ...,  2.44451446,\n",
       "        -0.80185915,  0.29085863]])"
      ]
     },
     "execution_count": 13,
     "metadata": {},
     "output_type": "execute_result"
    }
   ],
   "source": [
    "features"
   ]
  },
  {
   "cell_type": "code",
   "execution_count": 14,
   "metadata": {},
   "outputs": [],
   "source": [
    "data_new = pd.DataFrame(features , columns = ['vale1','vale2','vale3','vale4','vale5','vale6','vale7','vale8','vale9','vale10'])"
   ]
  },
  {
   "cell_type": "code",
   "execution_count": 15,
   "metadata": {},
   "outputs": [
    {
     "data": {
      "text/html": [
       "<div>\n",
       "<style scoped>\n",
       "    .dataframe tbody tr th:only-of-type {\n",
       "        vertical-align: middle;\n",
       "    }\n",
       "\n",
       "    .dataframe tbody tr th {\n",
       "        vertical-align: top;\n",
       "    }\n",
       "\n",
       "    .dataframe thead th {\n",
       "        text-align: right;\n",
       "    }\n",
       "</style>\n",
       "<table border=\"1\" class=\"dataframe\">\n",
       "  <thead>\n",
       "    <tr style=\"text-align: right;\">\n",
       "      <th></th>\n",
       "      <th>vale1</th>\n",
       "      <th>vale2</th>\n",
       "      <th>vale3</th>\n",
       "      <th>vale4</th>\n",
       "      <th>vale5</th>\n",
       "      <th>vale6</th>\n",
       "      <th>vale7</th>\n",
       "      <th>vale8</th>\n",
       "      <th>vale9</th>\n",
       "      <th>vale10</th>\n",
       "    </tr>\n",
       "  </thead>\n",
       "  <tbody>\n",
       "    <tr>\n",
       "      <th>0</th>\n",
       "      <td>-0.016940</td>\n",
       "      <td>-0.062429</td>\n",
       "      <td>0.427237</td>\n",
       "      <td>-0.168504</td>\n",
       "      <td>0.870262</td>\n",
       "      <td>-0.457414</td>\n",
       "      <td>-0.414605</td>\n",
       "      <td>-0.363254</td>\n",
       "      <td>0.211924</td>\n",
       "      <td>0.005373</td>\n",
       "    </tr>\n",
       "    <tr>\n",
       "      <th>1</th>\n",
       "      <td>-0.044179</td>\n",
       "      <td>-0.070502</td>\n",
       "      <td>0.458796</td>\n",
       "      <td>-0.295285</td>\n",
       "      <td>0.883475</td>\n",
       "      <td>-0.489662</td>\n",
       "      <td>-0.374260</td>\n",
       "      <td>-0.292319</td>\n",
       "      <td>0.152612</td>\n",
       "      <td>-0.018073</td>\n",
       "    </tr>\n",
       "    <tr>\n",
       "      <th>2</th>\n",
       "      <td>-0.073990</td>\n",
       "      <td>-0.110617</td>\n",
       "      <td>0.424226</td>\n",
       "      <td>-0.220862</td>\n",
       "      <td>0.917600</td>\n",
       "      <td>-0.461552</td>\n",
       "      <td>-0.368413</td>\n",
       "      <td>-0.354075</td>\n",
       "      <td>0.165271</td>\n",
       "      <td>0.051164</td>\n",
       "    </tr>\n",
       "    <tr>\n",
       "      <th>3</th>\n",
       "      <td>-0.136776</td>\n",
       "      <td>-0.155506</td>\n",
       "      <td>0.426463</td>\n",
       "      <td>-0.319412</td>\n",
       "      <td>1.047077</td>\n",
       "      <td>-0.430115</td>\n",
       "      <td>-0.312026</td>\n",
       "      <td>-0.532689</td>\n",
       "      <td>0.037082</td>\n",
       "      <td>0.165734</td>\n",
       "    </tr>\n",
       "    <tr>\n",
       "      <th>4</th>\n",
       "      <td>-0.035413</td>\n",
       "      <td>-0.059668</td>\n",
       "      <td>0.451801</td>\n",
       "      <td>-0.415346</td>\n",
       "      <td>1.225906</td>\n",
       "      <td>-0.546019</td>\n",
       "      <td>-0.442437</td>\n",
       "      <td>-0.392364</td>\n",
       "      <td>0.156096</td>\n",
       "      <td>0.073671</td>\n",
       "    </tr>\n",
       "    <tr>\n",
       "      <th>...</th>\n",
       "      <td>...</td>\n",
       "      <td>...</td>\n",
       "      <td>...</td>\n",
       "      <td>...</td>\n",
       "      <td>...</td>\n",
       "      <td>...</td>\n",
       "      <td>...</td>\n",
       "      <td>...</td>\n",
       "      <td>...</td>\n",
       "      <td>...</td>\n",
       "    </tr>\n",
       "    <tr>\n",
       "      <th>26194</th>\n",
       "      <td>0.433634</td>\n",
       "      <td>0.324848</td>\n",
       "      <td>-0.359698</td>\n",
       "      <td>-1.645828</td>\n",
       "      <td>6.579217</td>\n",
       "      <td>-3.959682</td>\n",
       "      <td>-3.291588</td>\n",
       "      <td>2.418088</td>\n",
       "      <td>0.576415</td>\n",
       "      <td>0.232703</td>\n",
       "    </tr>\n",
       "    <tr>\n",
       "      <th>26195</th>\n",
       "      <td>-0.474549</td>\n",
       "      <td>-0.612765</td>\n",
       "      <td>-0.365238</td>\n",
       "      <td>-1.782751</td>\n",
       "      <td>7.523801</td>\n",
       "      <td>-4.396653</td>\n",
       "      <td>-3.903505</td>\n",
       "      <td>1.941340</td>\n",
       "      <td>0.565981</td>\n",
       "      <td>-0.204207</td>\n",
       "    </tr>\n",
       "    <tr>\n",
       "      <th>26196</th>\n",
       "      <td>0.891067</td>\n",
       "      <td>0.804073</td>\n",
       "      <td>-0.977289</td>\n",
       "      <td>-2.093795</td>\n",
       "      <td>4.783456</td>\n",
       "      <td>-3.472962</td>\n",
       "      <td>-1.947709</td>\n",
       "      <td>2.283113</td>\n",
       "      <td>-0.352844</td>\n",
       "      <td>0.276555</td>\n",
       "    </tr>\n",
       "    <tr>\n",
       "      <th>26197</th>\n",
       "      <td>1.093242</td>\n",
       "      <td>1.049100</td>\n",
       "      <td>-0.502545</td>\n",
       "      <td>-1.653316</td>\n",
       "      <td>7.614827</td>\n",
       "      <td>-3.859878</td>\n",
       "      <td>-3.180268</td>\n",
       "      <td>1.883874</td>\n",
       "      <td>-0.442203</td>\n",
       "      <td>0.536493</td>\n",
       "    </tr>\n",
       "    <tr>\n",
       "      <th>26198</th>\n",
       "      <td>0.540269</td>\n",
       "      <td>0.413931</td>\n",
       "      <td>-0.565947</td>\n",
       "      <td>-1.874090</td>\n",
       "      <td>4.217904</td>\n",
       "      <td>-3.251133</td>\n",
       "      <td>-1.261802</td>\n",
       "      <td>2.444514</td>\n",
       "      <td>-0.801859</td>\n",
       "      <td>0.290859</td>\n",
       "    </tr>\n",
       "  </tbody>\n",
       "</table>\n",
       "<p>26199 rows × 10 columns</p>\n",
       "</div>"
      ],
      "text/plain": [
       "          vale1     vale2     vale3     vale4     vale5     vale6     vale7  \\\n",
       "0     -0.016940 -0.062429  0.427237 -0.168504  0.870262 -0.457414 -0.414605   \n",
       "1     -0.044179 -0.070502  0.458796 -0.295285  0.883475 -0.489662 -0.374260   \n",
       "2     -0.073990 -0.110617  0.424226 -0.220862  0.917600 -0.461552 -0.368413   \n",
       "3     -0.136776 -0.155506  0.426463 -0.319412  1.047077 -0.430115 -0.312026   \n",
       "4     -0.035413 -0.059668  0.451801 -0.415346  1.225906 -0.546019 -0.442437   \n",
       "...         ...       ...       ...       ...       ...       ...       ...   \n",
       "26194  0.433634  0.324848 -0.359698 -1.645828  6.579217 -3.959682 -3.291588   \n",
       "26195 -0.474549 -0.612765 -0.365238 -1.782751  7.523801 -4.396653 -3.903505   \n",
       "26196  0.891067  0.804073 -0.977289 -2.093795  4.783456 -3.472962 -1.947709   \n",
       "26197  1.093242  1.049100 -0.502545 -1.653316  7.614827 -3.859878 -3.180268   \n",
       "26198  0.540269  0.413931 -0.565947 -1.874090  4.217904 -3.251133 -1.261802   \n",
       "\n",
       "          vale8     vale9    vale10  \n",
       "0     -0.363254  0.211924  0.005373  \n",
       "1     -0.292319  0.152612 -0.018073  \n",
       "2     -0.354075  0.165271  0.051164  \n",
       "3     -0.532689  0.037082  0.165734  \n",
       "4     -0.392364  0.156096  0.073671  \n",
       "...         ...       ...       ...  \n",
       "26194  2.418088  0.576415  0.232703  \n",
       "26195  1.941340  0.565981 -0.204207  \n",
       "26196  2.283113 -0.352844  0.276555  \n",
       "26197  1.883874 -0.442203  0.536493  \n",
       "26198  2.444514 -0.801859  0.290859  \n",
       "\n",
       "[26199 rows x 10 columns]"
      ]
     },
     "execution_count": 15,
     "metadata": {},
     "output_type": "execute_result"
    }
   ],
   "source": [
    "data_new"
   ]
  },
  {
   "cell_type": "code",
   "execution_count": 16,
   "metadata": {},
   "outputs": [],
   "source": [
    "data_new.insert(10 ,'labels' , datalabels)"
   ]
  },
  {
   "cell_type": "code",
   "execution_count": 17,
   "metadata": {},
   "outputs": [],
   "source": [
    "testlab=testlab.drop(columns=testlab.columns[[1,2,3,4,5,6]], axis=1)\n",
    "testset.insert(10 ,'labels' , testlab)"
   ]
  },
  {
   "cell_type": "code",
   "execution_count": 18,
   "metadata": {},
   "outputs": [],
   "source": [
    "dataset = pd.concat( [ trainset, testset ], ignore_index= True )"
   ]
  },
  {
   "cell_type": "code",
   "execution_count": 19,
   "metadata": {},
   "outputs": [
    {
     "data": {
      "text/html": [
       "<div>\n",
       "<style scoped>\n",
       "    .dataframe tbody tr th:only-of-type {\n",
       "        vertical-align: middle;\n",
       "    }\n",
       "\n",
       "    .dataframe tbody tr th {\n",
       "        vertical-align: top;\n",
       "    }\n",
       "\n",
       "    .dataframe thead th {\n",
       "        text-align: right;\n",
       "    }\n",
       "</style>\n",
       "<table border=\"1\" class=\"dataframe\">\n",
       "  <thead>\n",
       "    <tr style=\"text-align: right;\">\n",
       "      <th></th>\n",
       "      <th>vale1</th>\n",
       "      <th>vale2</th>\n",
       "      <th>vale3</th>\n",
       "      <th>vale4</th>\n",
       "      <th>vale5</th>\n",
       "      <th>vale6</th>\n",
       "      <th>vale7</th>\n",
       "      <th>vale8</th>\n",
       "      <th>vale9</th>\n",
       "      <th>vale10</th>\n",
       "      <th>labels</th>\n",
       "    </tr>\n",
       "  </thead>\n",
       "  <tbody>\n",
       "    <tr>\n",
       "      <th>0</th>\n",
       "      <td>-0.132753</td>\n",
       "      <td>-0.163220</td>\n",
       "      <td>0.298510</td>\n",
       "      <td>-0.386726</td>\n",
       "      <td>0.934570</td>\n",
       "      <td>-0.386188</td>\n",
       "      <td>-0.292001</td>\n",
       "      <td>-0.211995</td>\n",
       "      <td>0.197731</td>\n",
       "      <td>-0.007056</td>\n",
       "      <td>1</td>\n",
       "    </tr>\n",
       "    <tr>\n",
       "      <th>1</th>\n",
       "      <td>-0.196359</td>\n",
       "      <td>-0.214179</td>\n",
       "      <td>0.295062</td>\n",
       "      <td>-0.257458</td>\n",
       "      <td>0.937696</td>\n",
       "      <td>-0.357075</td>\n",
       "      <td>-0.319707</td>\n",
       "      <td>-0.473274</td>\n",
       "      <td>0.159579</td>\n",
       "      <td>0.022640</td>\n",
       "      <td>1</td>\n",
       "    </tr>\n",
       "    <tr>\n",
       "      <th>2</th>\n",
       "      <td>-0.077665</td>\n",
       "      <td>-0.108193</td>\n",
       "      <td>0.374364</td>\n",
       "      <td>-0.218162</td>\n",
       "      <td>0.993907</td>\n",
       "      <td>-0.400560</td>\n",
       "      <td>-0.379472</td>\n",
       "      <td>-0.504703</td>\n",
       "      <td>0.209512</td>\n",
       "      <td>0.075953</td>\n",
       "      <td>1</td>\n",
       "    </tr>\n",
       "    <tr>\n",
       "      <th>3</th>\n",
       "      <td>-0.099537</td>\n",
       "      <td>-0.132895</td>\n",
       "      <td>0.315553</td>\n",
       "      <td>-0.334031</td>\n",
       "      <td>1.171973</td>\n",
       "      <td>-0.488372</td>\n",
       "      <td>-0.408483</td>\n",
       "      <td>-0.416131</td>\n",
       "      <td>0.057927</td>\n",
       "      <td>0.196741</td>\n",
       "      <td>1</td>\n",
       "    </tr>\n",
       "    <tr>\n",
       "      <th>4</th>\n",
       "      <td>-0.093664</td>\n",
       "      <td>-0.126818</td>\n",
       "      <td>0.277582</td>\n",
       "      <td>-0.362626</td>\n",
       "      <td>1.325761</td>\n",
       "      <td>-0.446401</td>\n",
       "      <td>-0.309932</td>\n",
       "      <td>-0.527190</td>\n",
       "      <td>-0.033661</td>\n",
       "      <td>0.207670</td>\n",
       "      <td>1</td>\n",
       "    </tr>\n",
       "    <tr>\n",
       "      <th>...</th>\n",
       "      <td>...</td>\n",
       "      <td>...</td>\n",
       "      <td>...</td>\n",
       "      <td>...</td>\n",
       "      <td>...</td>\n",
       "      <td>...</td>\n",
       "      <td>...</td>\n",
       "      <td>...</td>\n",
       "      <td>...</td>\n",
       "      <td>...</td>\n",
       "      <td>...</td>\n",
       "    </tr>\n",
       "    <tr>\n",
       "      <th>27307</th>\n",
       "      <td>0.433634</td>\n",
       "      <td>0.324848</td>\n",
       "      <td>-0.359698</td>\n",
       "      <td>-1.645828</td>\n",
       "      <td>6.579217</td>\n",
       "      <td>-3.959682</td>\n",
       "      <td>-3.291588</td>\n",
       "      <td>2.418088</td>\n",
       "      <td>0.576415</td>\n",
       "      <td>0.232703</td>\n",
       "      <td>8</td>\n",
       "    </tr>\n",
       "    <tr>\n",
       "      <th>27308</th>\n",
       "      <td>-0.474549</td>\n",
       "      <td>-0.612765</td>\n",
       "      <td>-0.365238</td>\n",
       "      <td>-1.782751</td>\n",
       "      <td>7.523801</td>\n",
       "      <td>-4.396653</td>\n",
       "      <td>-3.903505</td>\n",
       "      <td>1.941340</td>\n",
       "      <td>0.565981</td>\n",
       "      <td>-0.204207</td>\n",
       "      <td>8</td>\n",
       "    </tr>\n",
       "    <tr>\n",
       "      <th>27309</th>\n",
       "      <td>0.891067</td>\n",
       "      <td>0.804073</td>\n",
       "      <td>-0.977289</td>\n",
       "      <td>-2.093795</td>\n",
       "      <td>4.783456</td>\n",
       "      <td>-3.472962</td>\n",
       "      <td>-1.947709</td>\n",
       "      <td>2.283113</td>\n",
       "      <td>-0.352844</td>\n",
       "      <td>0.276555</td>\n",
       "      <td>8</td>\n",
       "    </tr>\n",
       "    <tr>\n",
       "      <th>27310</th>\n",
       "      <td>1.093242</td>\n",
       "      <td>1.049100</td>\n",
       "      <td>-0.502545</td>\n",
       "      <td>-1.653316</td>\n",
       "      <td>7.614827</td>\n",
       "      <td>-3.859878</td>\n",
       "      <td>-3.180268</td>\n",
       "      <td>1.883874</td>\n",
       "      <td>-0.442203</td>\n",
       "      <td>0.536493</td>\n",
       "      <td>8</td>\n",
       "    </tr>\n",
       "    <tr>\n",
       "      <th>27311</th>\n",
       "      <td>0.540269</td>\n",
       "      <td>0.413931</td>\n",
       "      <td>-0.565947</td>\n",
       "      <td>-1.874090</td>\n",
       "      <td>4.217904</td>\n",
       "      <td>-3.251133</td>\n",
       "      <td>-1.261802</td>\n",
       "      <td>2.444514</td>\n",
       "      <td>-0.801859</td>\n",
       "      <td>0.290859</td>\n",
       "      <td>8</td>\n",
       "    </tr>\n",
       "  </tbody>\n",
       "</table>\n",
       "<p>27312 rows × 11 columns</p>\n",
       "</div>"
      ],
      "text/plain": [
       "          vale1     vale2     vale3     vale4     vale5     vale6     vale7  \\\n",
       "0     -0.132753 -0.163220  0.298510 -0.386726  0.934570 -0.386188 -0.292001   \n",
       "1     -0.196359 -0.214179  0.295062 -0.257458  0.937696 -0.357075 -0.319707   \n",
       "2     -0.077665 -0.108193  0.374364 -0.218162  0.993907 -0.400560 -0.379472   \n",
       "3     -0.099537 -0.132895  0.315553 -0.334031  1.171973 -0.488372 -0.408483   \n",
       "4     -0.093664 -0.126818  0.277582 -0.362626  1.325761 -0.446401 -0.309932   \n",
       "...         ...       ...       ...       ...       ...       ...       ...   \n",
       "27307  0.433634  0.324848 -0.359698 -1.645828  6.579217 -3.959682 -3.291588   \n",
       "27308 -0.474549 -0.612765 -0.365238 -1.782751  7.523801 -4.396653 -3.903505   \n",
       "27309  0.891067  0.804073 -0.977289 -2.093795  4.783456 -3.472962 -1.947709   \n",
       "27310  1.093242  1.049100 -0.502545 -1.653316  7.614827 -3.859878 -3.180268   \n",
       "27311  0.540269  0.413931 -0.565947 -1.874090  4.217904 -3.251133 -1.261802   \n",
       "\n",
       "          vale8     vale9    vale10  labels  \n",
       "0     -0.211995  0.197731 -0.007056       1  \n",
       "1     -0.473274  0.159579  0.022640       1  \n",
       "2     -0.504703  0.209512  0.075953       1  \n",
       "3     -0.416131  0.057927  0.196741       1  \n",
       "4     -0.527190 -0.033661  0.207670       1  \n",
       "...         ...       ...       ...     ...  \n",
       "27307  2.418088  0.576415  0.232703       8  \n",
       "27308  1.941340  0.565981 -0.204207       8  \n",
       "27309  2.283113 -0.352844  0.276555       8  \n",
       "27310  1.883874 -0.442203  0.536493       8  \n",
       "27311  2.444514 -0.801859  0.290859       8  \n",
       "\n",
       "[27312 rows x 11 columns]"
      ]
     },
     "execution_count": 19,
     "metadata": {},
     "output_type": "execute_result"
    }
   ],
   "source": [
    "dataset"
   ]
  },
  {
   "cell_type": "code",
   "execution_count": 20,
   "metadata": {},
   "outputs": [],
   "source": [
    "dataset  = pd.concat([dataset,data_new], ignore_index = True)"
   ]
  },
  {
   "cell_type": "code",
   "execution_count": 21,
   "metadata": {},
   "outputs": [],
   "source": [
    "dataset = dataset.drop_duplicates(ignore_index = True)"
   ]
  },
  {
   "cell_type": "code",
   "execution_count": 22,
   "metadata": {},
   "outputs": [],
   "source": [
    "dataset.to_csv(\"C:/Users/KIIT/Dataset/Classification_Dataset/ECG_dataset.csv\" , index = False)"
   ]
  },
  {
   "cell_type": "code",
   "execution_count": 23,
   "metadata": {},
   "outputs": [
    {
     "data": {
      "text/html": [
       "<div>\n",
       "<style scoped>\n",
       "    .dataframe tbody tr th:only-of-type {\n",
       "        vertical-align: middle;\n",
       "    }\n",
       "\n",
       "    .dataframe tbody tr th {\n",
       "        vertical-align: top;\n",
       "    }\n",
       "\n",
       "    .dataframe thead th {\n",
       "        text-align: right;\n",
       "    }\n",
       "</style>\n",
       "<table border=\"1\" class=\"dataframe\">\n",
       "  <thead>\n",
       "    <tr style=\"text-align: right;\">\n",
       "      <th></th>\n",
       "      <th>0</th>\n",
       "      <th>1</th>\n",
       "      <th>2</th>\n",
       "      <th>3</th>\n",
       "      <th>4</th>\n",
       "      <th>5</th>\n",
       "      <th>6</th>\n",
       "      <th>7</th>\n",
       "      <th>8</th>\n",
       "      <th>9</th>\n",
       "      <th>...</th>\n",
       "      <th>52822</th>\n",
       "      <th>52823</th>\n",
       "      <th>52824</th>\n",
       "      <th>52825</th>\n",
       "      <th>52826</th>\n",
       "      <th>52827</th>\n",
       "      <th>52828</th>\n",
       "      <th>52829</th>\n",
       "      <th>52830</th>\n",
       "      <th>52831</th>\n",
       "    </tr>\n",
       "  </thead>\n",
       "  <tbody>\n",
       "    <tr>\n",
       "      <th>vale1</th>\n",
       "      <td>-0.132753</td>\n",
       "      <td>-0.196359</td>\n",
       "      <td>-0.077665</td>\n",
       "      <td>-0.099537</td>\n",
       "      <td>-0.093664</td>\n",
       "      <td>-0.071074</td>\n",
       "      <td>-0.069871</td>\n",
       "      <td>-0.068963</td>\n",
       "      <td>-0.066107</td>\n",
       "      <td>-0.088034</td>\n",
       "      <td>...</td>\n",
       "      <td>0.925021</td>\n",
       "      <td>0.128121</td>\n",
       "      <td>0.842379</td>\n",
       "      <td>0.889951</td>\n",
       "      <td>1.286406</td>\n",
       "      <td>0.433634</td>\n",
       "      <td>-0.474549</td>\n",
       "      <td>0.891067</td>\n",
       "      <td>1.093242</td>\n",
       "      <td>0.540269</td>\n",
       "    </tr>\n",
       "    <tr>\n",
       "      <th>vale2</th>\n",
       "      <td>-0.163220</td>\n",
       "      <td>-0.214179</td>\n",
       "      <td>-0.108193</td>\n",
       "      <td>-0.132895</td>\n",
       "      <td>-0.126818</td>\n",
       "      <td>-0.101462</td>\n",
       "      <td>-0.111972</td>\n",
       "      <td>-0.118867</td>\n",
       "      <td>-0.108463</td>\n",
       "      <td>-0.098137</td>\n",
       "      <td>...</td>\n",
       "      <td>0.850751</td>\n",
       "      <td>0.028744</td>\n",
       "      <td>0.776540</td>\n",
       "      <td>0.807778</td>\n",
       "      <td>1.226155</td>\n",
       "      <td>0.324848</td>\n",
       "      <td>-0.612765</td>\n",
       "      <td>0.804073</td>\n",
       "      <td>1.049100</td>\n",
       "      <td>0.413931</td>\n",
       "    </tr>\n",
       "    <tr>\n",
       "      <th>vale3</th>\n",
       "      <td>0.298510</td>\n",
       "      <td>0.295062</td>\n",
       "      <td>0.374364</td>\n",
       "      <td>0.315553</td>\n",
       "      <td>0.277582</td>\n",
       "      <td>0.300357</td>\n",
       "      <td>0.279140</td>\n",
       "      <td>0.283830</td>\n",
       "      <td>0.281386</td>\n",
       "      <td>0.328374</td>\n",
       "      <td>...</td>\n",
       "      <td>-0.209397</td>\n",
       "      <td>-0.907709</td>\n",
       "      <td>-0.782089</td>\n",
       "      <td>-0.608036</td>\n",
       "      <td>-0.127220</td>\n",
       "      <td>-0.359698</td>\n",
       "      <td>-0.365238</td>\n",
       "      <td>-0.977289</td>\n",
       "      <td>-0.502545</td>\n",
       "      <td>-0.565947</td>\n",
       "    </tr>\n",
       "    <tr>\n",
       "      <th>vale4</th>\n",
       "      <td>-0.386726</td>\n",
       "      <td>-0.257458</td>\n",
       "      <td>-0.218162</td>\n",
       "      <td>-0.334031</td>\n",
       "      <td>-0.362626</td>\n",
       "      <td>-0.290092</td>\n",
       "      <td>-0.201363</td>\n",
       "      <td>-0.210582</td>\n",
       "      <td>-0.209719</td>\n",
       "      <td>-0.358000</td>\n",
       "      <td>...</td>\n",
       "      <td>-1.491101</td>\n",
       "      <td>-1.979754</td>\n",
       "      <td>-1.053865</td>\n",
       "      <td>-1.602892</td>\n",
       "      <td>-1.309071</td>\n",
       "      <td>-1.645828</td>\n",
       "      <td>-1.782751</td>\n",
       "      <td>-2.093795</td>\n",
       "      <td>-1.653316</td>\n",
       "      <td>-1.874090</td>\n",
       "    </tr>\n",
       "    <tr>\n",
       "      <th>vale5</th>\n",
       "      <td>0.934570</td>\n",
       "      <td>0.937696</td>\n",
       "      <td>0.993907</td>\n",
       "      <td>1.171973</td>\n",
       "      <td>1.325761</td>\n",
       "      <td>1.024788</td>\n",
       "      <td>1.004114</td>\n",
       "      <td>0.929242</td>\n",
       "      <td>0.961061</td>\n",
       "      <td>1.118687</td>\n",
       "      <td>...</td>\n",
       "      <td>5.355124</td>\n",
       "      <td>10.079333</td>\n",
       "      <td>8.379983</td>\n",
       "      <td>9.740977</td>\n",
       "      <td>4.826630</td>\n",
       "      <td>6.579217</td>\n",
       "      <td>7.523801</td>\n",
       "      <td>4.783456</td>\n",
       "      <td>7.614827</td>\n",
       "      <td>4.217904</td>\n",
       "    </tr>\n",
       "    <tr>\n",
       "      <th>vale6</th>\n",
       "      <td>-0.386188</td>\n",
       "      <td>-0.357075</td>\n",
       "      <td>-0.400560</td>\n",
       "      <td>-0.488372</td>\n",
       "      <td>-0.446401</td>\n",
       "      <td>-0.406208</td>\n",
       "      <td>-0.442503</td>\n",
       "      <td>-0.374093</td>\n",
       "      <td>-0.337995</td>\n",
       "      <td>-0.433385</td>\n",
       "      <td>...</td>\n",
       "      <td>-3.207576</td>\n",
       "      <td>-4.391267</td>\n",
       "      <td>-4.055023</td>\n",
       "      <td>-5.468199</td>\n",
       "      <td>-3.648789</td>\n",
       "      <td>-3.959682</td>\n",
       "      <td>-4.396653</td>\n",
       "      <td>-3.472962</td>\n",
       "      <td>-3.859878</td>\n",
       "      <td>-3.251133</td>\n",
       "    </tr>\n",
       "    <tr>\n",
       "      <th>vale7</th>\n",
       "      <td>-0.292001</td>\n",
       "      <td>-0.319707</td>\n",
       "      <td>-0.379472</td>\n",
       "      <td>-0.408483</td>\n",
       "      <td>-0.309932</td>\n",
       "      <td>-0.348910</td>\n",
       "      <td>-0.355022</td>\n",
       "      <td>-0.325621</td>\n",
       "      <td>-0.305571</td>\n",
       "      <td>-0.340641</td>\n",
       "      <td>...</td>\n",
       "      <td>-1.927265</td>\n",
       "      <td>-4.520759</td>\n",
       "      <td>-3.860801</td>\n",
       "      <td>-4.876966</td>\n",
       "      <td>-1.973180</td>\n",
       "      <td>-3.291588</td>\n",
       "      <td>-3.903505</td>\n",
       "      <td>-1.947709</td>\n",
       "      <td>-3.180268</td>\n",
       "      <td>-1.261802</td>\n",
       "    </tr>\n",
       "    <tr>\n",
       "      <th>vale8</th>\n",
       "      <td>-0.211995</td>\n",
       "      <td>-0.473274</td>\n",
       "      <td>-0.504703</td>\n",
       "      <td>-0.416131</td>\n",
       "      <td>-0.527190</td>\n",
       "      <td>-0.428371</td>\n",
       "      <td>-0.330224</td>\n",
       "      <td>-0.323518</td>\n",
       "      <td>-0.507315</td>\n",
       "      <td>-0.402243</td>\n",
       "      <td>...</td>\n",
       "      <td>1.952747</td>\n",
       "      <td>1.084364</td>\n",
       "      <td>1.382937</td>\n",
       "      <td>1.345360</td>\n",
       "      <td>2.327285</td>\n",
       "      <td>2.418088</td>\n",
       "      <td>1.941340</td>\n",
       "      <td>2.283113</td>\n",
       "      <td>1.883874</td>\n",
       "      <td>2.444514</td>\n",
       "    </tr>\n",
       "    <tr>\n",
       "      <th>vale9</th>\n",
       "      <td>0.197731</td>\n",
       "      <td>0.159579</td>\n",
       "      <td>0.209512</td>\n",
       "      <td>0.057927</td>\n",
       "      <td>-0.033661</td>\n",
       "      <td>0.195205</td>\n",
       "      <td>0.168673</td>\n",
       "      <td>0.163830</td>\n",
       "      <td>0.168188</td>\n",
       "      <td>0.209406</td>\n",
       "      <td>...</td>\n",
       "      <td>-0.648983</td>\n",
       "      <td>0.593672</td>\n",
       "      <td>-0.414884</td>\n",
       "      <td>0.215661</td>\n",
       "      <td>-0.619188</td>\n",
       "      <td>0.576415</td>\n",
       "      <td>0.565981</td>\n",
       "      <td>-0.352844</td>\n",
       "      <td>-0.442203</td>\n",
       "      <td>-0.801859</td>\n",
       "    </tr>\n",
       "    <tr>\n",
       "      <th>vale10</th>\n",
       "      <td>-0.007056</td>\n",
       "      <td>0.022640</td>\n",
       "      <td>0.075953</td>\n",
       "      <td>0.196741</td>\n",
       "      <td>0.207670</td>\n",
       "      <td>0.062890</td>\n",
       "      <td>0.017634</td>\n",
       "      <td>-0.041561</td>\n",
       "      <td>0.087584</td>\n",
       "      <td>0.078348</td>\n",
       "      <td>...</td>\n",
       "      <td>0.325660</td>\n",
       "      <td>-0.323231</td>\n",
       "      <td>1.085468</td>\n",
       "      <td>1.190379</td>\n",
       "      <td>0.483290</td>\n",
       "      <td>0.232703</td>\n",
       "      <td>-0.204207</td>\n",
       "      <td>0.276555</td>\n",
       "      <td>0.536493</td>\n",
       "      <td>0.290859</td>\n",
       "    </tr>\n",
       "    <tr>\n",
       "      <th>labels</th>\n",
       "      <td>1.000000</td>\n",
       "      <td>1.000000</td>\n",
       "      <td>1.000000</td>\n",
       "      <td>1.000000</td>\n",
       "      <td>1.000000</td>\n",
       "      <td>1.000000</td>\n",
       "      <td>1.000000</td>\n",
       "      <td>1.000000</td>\n",
       "      <td>1.000000</td>\n",
       "      <td>1.000000</td>\n",
       "      <td>...</td>\n",
       "      <td>8.000000</td>\n",
       "      <td>8.000000</td>\n",
       "      <td>8.000000</td>\n",
       "      <td>8.000000</td>\n",
       "      <td>8.000000</td>\n",
       "      <td>8.000000</td>\n",
       "      <td>8.000000</td>\n",
       "      <td>8.000000</td>\n",
       "      <td>8.000000</td>\n",
       "      <td>8.000000</td>\n",
       "    </tr>\n",
       "  </tbody>\n",
       "</table>\n",
       "<p>11 rows × 52832 columns</p>\n",
       "</div>"
      ],
      "text/plain": [
       "           0         1         2         3         4         5         6      \\\n",
       "vale1  -0.132753 -0.196359 -0.077665 -0.099537 -0.093664 -0.071074 -0.069871   \n",
       "vale2  -0.163220 -0.214179 -0.108193 -0.132895 -0.126818 -0.101462 -0.111972   \n",
       "vale3   0.298510  0.295062  0.374364  0.315553  0.277582  0.300357  0.279140   \n",
       "vale4  -0.386726 -0.257458 -0.218162 -0.334031 -0.362626 -0.290092 -0.201363   \n",
       "vale5   0.934570  0.937696  0.993907  1.171973  1.325761  1.024788  1.004114   \n",
       "vale6  -0.386188 -0.357075 -0.400560 -0.488372 -0.446401 -0.406208 -0.442503   \n",
       "vale7  -0.292001 -0.319707 -0.379472 -0.408483 -0.309932 -0.348910 -0.355022   \n",
       "vale8  -0.211995 -0.473274 -0.504703 -0.416131 -0.527190 -0.428371 -0.330224   \n",
       "vale9   0.197731  0.159579  0.209512  0.057927 -0.033661  0.195205  0.168673   \n",
       "vale10 -0.007056  0.022640  0.075953  0.196741  0.207670  0.062890  0.017634   \n",
       "labels  1.000000  1.000000  1.000000  1.000000  1.000000  1.000000  1.000000   \n",
       "\n",
       "           7         8         9      ...     52822      52823     52824  \\\n",
       "vale1  -0.068963 -0.066107 -0.088034  ...  0.925021   0.128121  0.842379   \n",
       "vale2  -0.118867 -0.108463 -0.098137  ...  0.850751   0.028744  0.776540   \n",
       "vale3   0.283830  0.281386  0.328374  ... -0.209397  -0.907709 -0.782089   \n",
       "vale4  -0.210582 -0.209719 -0.358000  ... -1.491101  -1.979754 -1.053865   \n",
       "vale5   0.929242  0.961061  1.118687  ...  5.355124  10.079333  8.379983   \n",
       "vale6  -0.374093 -0.337995 -0.433385  ... -3.207576  -4.391267 -4.055023   \n",
       "vale7  -0.325621 -0.305571 -0.340641  ... -1.927265  -4.520759 -3.860801   \n",
       "vale8  -0.323518 -0.507315 -0.402243  ...  1.952747   1.084364  1.382937   \n",
       "vale9   0.163830  0.168188  0.209406  ... -0.648983   0.593672 -0.414884   \n",
       "vale10 -0.041561  0.087584  0.078348  ...  0.325660  -0.323231  1.085468   \n",
       "labels  1.000000  1.000000  1.000000  ...  8.000000   8.000000  8.000000   \n",
       "\n",
       "           52825     52826     52827     52828     52829     52830     52831  \n",
       "vale1   0.889951  1.286406  0.433634 -0.474549  0.891067  1.093242  0.540269  \n",
       "vale2   0.807778  1.226155  0.324848 -0.612765  0.804073  1.049100  0.413931  \n",
       "vale3  -0.608036 -0.127220 -0.359698 -0.365238 -0.977289 -0.502545 -0.565947  \n",
       "vale4  -1.602892 -1.309071 -1.645828 -1.782751 -2.093795 -1.653316 -1.874090  \n",
       "vale5   9.740977  4.826630  6.579217  7.523801  4.783456  7.614827  4.217904  \n",
       "vale6  -5.468199 -3.648789 -3.959682 -4.396653 -3.472962 -3.859878 -3.251133  \n",
       "vale7  -4.876966 -1.973180 -3.291588 -3.903505 -1.947709 -3.180268 -1.261802  \n",
       "vale8   1.345360  2.327285  2.418088  1.941340  2.283113  1.883874  2.444514  \n",
       "vale9   0.215661 -0.619188  0.576415  0.565981 -0.352844 -0.442203 -0.801859  \n",
       "vale10  1.190379  0.483290  0.232703 -0.204207  0.276555  0.536493  0.290859  \n",
       "labels  8.000000  8.000000  8.000000  8.000000  8.000000  8.000000  8.000000  \n",
       "\n",
       "[11 rows x 52832 columns]"
      ]
     },
     "execution_count": 23,
     "metadata": {},
     "output_type": "execute_result"
    }
   ],
   "source": [
    "dataset.T"
   ]
  },
  {
   "cell_type": "code",
   "execution_count": 24,
   "metadata": {},
   "outputs": [
    {
     "data": {
      "text/plain": [
       "1    18637\n",
       "5    10037\n",
       "2     9851\n",
       "3     8091\n",
       "4     2019\n",
       "6     1638\n",
       "7     1464\n",
       "8     1095\n",
       "Name: labels, dtype: int64"
      ]
     },
     "execution_count": 24,
     "metadata": {},
     "output_type": "execute_result"
    }
   ],
   "source": [
    "dataset['labels'].value_counts()"
   ]
  },
  {
   "cell_type": "code",
   "execution_count": 25,
   "metadata": {},
   "outputs": [],
   "source": [
    "dataset = dataset.sample(frac=1)   #df.sample shuffles the dataset, frac=1 means we take whole dataset as sample"
   ]
  },
  {
   "cell_type": "code",
   "execution_count": 26,
   "metadata": {},
   "outputs": [
    {
     "data": {
      "text/html": [
       "<div>\n",
       "<style scoped>\n",
       "    .dataframe tbody tr th:only-of-type {\n",
       "        vertical-align: middle;\n",
       "    }\n",
       "\n",
       "    .dataframe tbody tr th {\n",
       "        vertical-align: top;\n",
       "    }\n",
       "\n",
       "    .dataframe thead th {\n",
       "        text-align: right;\n",
       "    }\n",
       "</style>\n",
       "<table border=\"1\" class=\"dataframe\">\n",
       "  <thead>\n",
       "    <tr style=\"text-align: right;\">\n",
       "      <th></th>\n",
       "      <th>vale1</th>\n",
       "      <th>vale2</th>\n",
       "      <th>vale3</th>\n",
       "      <th>vale4</th>\n",
       "      <th>vale5</th>\n",
       "      <th>vale6</th>\n",
       "      <th>vale7</th>\n",
       "      <th>vale8</th>\n",
       "      <th>vale9</th>\n",
       "      <th>vale10</th>\n",
       "      <th>labels</th>\n",
       "    </tr>\n",
       "  </thead>\n",
       "  <tbody>\n",
       "    <tr>\n",
       "      <th>13422</th>\n",
       "      <td>-0.066515</td>\n",
       "      <td>-0.066422</td>\n",
       "      <td>-0.251087</td>\n",
       "      <td>-0.467818</td>\n",
       "      <td>1.705293</td>\n",
       "      <td>-2.657268</td>\n",
       "      <td>-0.956468</td>\n",
       "      <td>0.792425</td>\n",
       "      <td>1.381494</td>\n",
       "      <td>0.610952</td>\n",
       "      <td>5</td>\n",
       "    </tr>\n",
       "    <tr>\n",
       "      <th>48152</th>\n",
       "      <td>-0.211244</td>\n",
       "      <td>-0.208748</td>\n",
       "      <td>-0.313692</td>\n",
       "      <td>-0.490220</td>\n",
       "      <td>1.198464</td>\n",
       "      <td>-2.226482</td>\n",
       "      <td>-0.094891</td>\n",
       "      <td>0.559834</td>\n",
       "      <td>1.110742</td>\n",
       "      <td>0.404997</td>\n",
       "      <td>5</td>\n",
       "    </tr>\n",
       "    <tr>\n",
       "      <th>46409</th>\n",
       "      <td>-0.325054</td>\n",
       "      <td>-0.327641</td>\n",
       "      <td>-0.266213</td>\n",
       "      <td>-0.319480</td>\n",
       "      <td>0.675427</td>\n",
       "      <td>-0.842463</td>\n",
       "      <td>-0.126284</td>\n",
       "      <td>1.197670</td>\n",
       "      <td>0.246991</td>\n",
       "      <td>-0.350673</td>\n",
       "      <td>4</td>\n",
       "    </tr>\n",
       "    <tr>\n",
       "      <th>6264</th>\n",
       "      <td>-0.273603</td>\n",
       "      <td>-0.286899</td>\n",
       "      <td>-0.156696</td>\n",
       "      <td>-0.703306</td>\n",
       "      <td>1.970714</td>\n",
       "      <td>-0.450004</td>\n",
       "      <td>-0.151691</td>\n",
       "      <td>0.464730</td>\n",
       "      <td>-0.035690</td>\n",
       "      <td>-0.203669</td>\n",
       "      <td>1</td>\n",
       "    </tr>\n",
       "    <tr>\n",
       "      <th>5785</th>\n",
       "      <td>-0.315113</td>\n",
       "      <td>-0.332973</td>\n",
       "      <td>-0.222359</td>\n",
       "      <td>-0.715177</td>\n",
       "      <td>2.216083</td>\n",
       "      <td>-0.308035</td>\n",
       "      <td>-0.103014</td>\n",
       "      <td>0.472735</td>\n",
       "      <td>-0.074622</td>\n",
       "      <td>-0.359754</td>\n",
       "      <td>1</td>\n",
       "    </tr>\n",
       "    <tr>\n",
       "      <th>...</th>\n",
       "      <td>...</td>\n",
       "      <td>...</td>\n",
       "      <td>...</td>\n",
       "      <td>...</td>\n",
       "      <td>...</td>\n",
       "      <td>...</td>\n",
       "      <td>...</td>\n",
       "      <td>...</td>\n",
       "      <td>...</td>\n",
       "      <td>...</td>\n",
       "      <td>...</td>\n",
       "    </tr>\n",
       "    <tr>\n",
       "      <th>20879</th>\n",
       "      <td>0.960810</td>\n",
       "      <td>0.949262</td>\n",
       "      <td>-0.451521</td>\n",
       "      <td>-0.884590</td>\n",
       "      <td>5.233772</td>\n",
       "      <td>-2.542295</td>\n",
       "      <td>-1.896227</td>\n",
       "      <td>-1.375269</td>\n",
       "      <td>0.681758</td>\n",
       "      <td>0.748089</td>\n",
       "      <td>2</td>\n",
       "    </tr>\n",
       "    <tr>\n",
       "      <th>17677</th>\n",
       "      <td>-0.102882</td>\n",
       "      <td>-0.139202</td>\n",
       "      <td>0.368670</td>\n",
       "      <td>-0.280475</td>\n",
       "      <td>1.116937</td>\n",
       "      <td>-0.441572</td>\n",
       "      <td>-0.357041</td>\n",
       "      <td>-0.410660</td>\n",
       "      <td>0.148880</td>\n",
       "      <td>-0.047904</td>\n",
       "      <td>1</td>\n",
       "    </tr>\n",
       "    <tr>\n",
       "      <th>16382</th>\n",
       "      <td>-0.299820</td>\n",
       "      <td>-0.279402</td>\n",
       "      <td>-0.101011</td>\n",
       "      <td>-0.773887</td>\n",
       "      <td>3.573543</td>\n",
       "      <td>-0.378226</td>\n",
       "      <td>-1.137868</td>\n",
       "      <td>-0.954822</td>\n",
       "      <td>0.116209</td>\n",
       "      <td>-0.088614</td>\n",
       "      <td>7</td>\n",
       "    </tr>\n",
       "    <tr>\n",
       "      <th>40840</th>\n",
       "      <td>-0.426805</td>\n",
       "      <td>-0.449610</td>\n",
       "      <td>-0.144142</td>\n",
       "      <td>-1.007857</td>\n",
       "      <td>5.061303</td>\n",
       "      <td>-0.300431</td>\n",
       "      <td>-1.743748</td>\n",
       "      <td>-1.304045</td>\n",
       "      <td>0.015687</td>\n",
       "      <td>-0.174293</td>\n",
       "      <td>2</td>\n",
       "    </tr>\n",
       "    <tr>\n",
       "      <th>14618</th>\n",
       "      <td>-1.471044</td>\n",
       "      <td>-1.487799</td>\n",
       "      <td>-1.171819</td>\n",
       "      <td>-1.447556</td>\n",
       "      <td>6.323223</td>\n",
       "      <td>-6.936968</td>\n",
       "      <td>-3.383998</td>\n",
       "      <td>3.063842</td>\n",
       "      <td>5.009449</td>\n",
       "      <td>-0.104522</td>\n",
       "      <td>5</td>\n",
       "    </tr>\n",
       "  </tbody>\n",
       "</table>\n",
       "<p>52832 rows × 11 columns</p>\n",
       "</div>"
      ],
      "text/plain": [
       "          vale1     vale2     vale3     vale4     vale5     vale6     vale7  \\\n",
       "13422 -0.066515 -0.066422 -0.251087 -0.467818  1.705293 -2.657268 -0.956468   \n",
       "48152 -0.211244 -0.208748 -0.313692 -0.490220  1.198464 -2.226482 -0.094891   \n",
       "46409 -0.325054 -0.327641 -0.266213 -0.319480  0.675427 -0.842463 -0.126284   \n",
       "6264  -0.273603 -0.286899 -0.156696 -0.703306  1.970714 -0.450004 -0.151691   \n",
       "5785  -0.315113 -0.332973 -0.222359 -0.715177  2.216083 -0.308035 -0.103014   \n",
       "...         ...       ...       ...       ...       ...       ...       ...   \n",
       "20879  0.960810  0.949262 -0.451521 -0.884590  5.233772 -2.542295 -1.896227   \n",
       "17677 -0.102882 -0.139202  0.368670 -0.280475  1.116937 -0.441572 -0.357041   \n",
       "16382 -0.299820 -0.279402 -0.101011 -0.773887  3.573543 -0.378226 -1.137868   \n",
       "40840 -0.426805 -0.449610 -0.144142 -1.007857  5.061303 -0.300431 -1.743748   \n",
       "14618 -1.471044 -1.487799 -1.171819 -1.447556  6.323223 -6.936968 -3.383998   \n",
       "\n",
       "          vale8     vale9    vale10  labels  \n",
       "13422  0.792425  1.381494  0.610952       5  \n",
       "48152  0.559834  1.110742  0.404997       5  \n",
       "46409  1.197670  0.246991 -0.350673       4  \n",
       "6264   0.464730 -0.035690 -0.203669       1  \n",
       "5785   0.472735 -0.074622 -0.359754       1  \n",
       "...         ...       ...       ...     ...  \n",
       "20879 -1.375269  0.681758  0.748089       2  \n",
       "17677 -0.410660  0.148880 -0.047904       1  \n",
       "16382 -0.954822  0.116209 -0.088614       7  \n",
       "40840 -1.304045  0.015687 -0.174293       2  \n",
       "14618  3.063842  5.009449 -0.104522       5  \n",
       "\n",
       "[52832 rows x 11 columns]"
      ]
     },
     "execution_count": 26,
     "metadata": {},
     "output_type": "execute_result"
    }
   ],
   "source": [
    "dataset"
   ]
  },
  {
   "cell_type": "code",
   "execution_count": 27,
   "metadata": {},
   "outputs": [],
   "source": [
    "y = dataset.pop('labels').values"
   ]
  },
  {
   "cell_type": "code",
   "execution_count": 28,
   "metadata": {},
   "outputs": [],
   "source": [
    "x = dataset.values"
   ]
  },
  {
   "cell_type": "code",
   "execution_count": 29,
   "metadata": {},
   "outputs": [],
   "source": [
    "from sklearn.model_selection import train_test_split\n",
    "x_train, x_test, y_train, y_test  = train_test_split(x, y, test_size=0.30, random_state=1) # 60-40 split\n",
    "x_test, x_val, y_test, y_val  = train_test_split(x_test, y_test, test_size=0.50, random_state=1)  #50-50 split on 40% of data\n",
    "    "
   ]
  },
  {
   "cell_type": "markdown",
   "metadata": {},
   "source": [
    "## TRANNING TESTING AND VALIDATION SPLIT"
   ]
  },
  {
   "cell_type": "code",
   "execution_count": 30,
   "metadata": {},
   "outputs": [
    {
     "name": "stdout",
     "output_type": "stream",
     "text": [
      "('features', (36982, 10), 'labels', (36982,))\n",
      "Label Name  Count\n",
      "[[    1 13025]\n",
      " [    2  6866]\n",
      " [    3  5658]\n",
      " [    4  1456]\n",
      " [    5  7012]\n",
      " [    6  1154]\n",
      " [    7  1043]\n",
      " [    8   768]]\n"
     ]
    }
   ],
   "source": [
    "print(('features',x_train.shape,'labels',y_train.shape))                 #Tranning set size\n",
    "print('Label Name ' , 'Count')\n",
    "print(np.array(np.unique(y_train, return_counts=True)).T)\n"
   ]
  },
  {
   "cell_type": "code",
   "execution_count": 31,
   "metadata": {},
   "outputs": [
    {
     "name": "stdout",
     "output_type": "stream",
     "text": [
      "('features', (7925, 10), 'labels', (7925,))\n",
      "Label Name  Count\n",
      "[[   1 2828]\n",
      " [   2 1469]\n",
      " [   3 1236]\n",
      " [   4  294]\n",
      " [   5 1503]\n",
      " [   6  238]\n",
      " [   7  193]\n",
      " [   8  164]]\n"
     ]
    }
   ],
   "source": [
    "print(('features',x_val.shape,'labels',y_val.shape))                 #Validation set size\n",
    "print('Label Name ' , 'Count')\n",
    "print(np.array(np.unique(y_val, return_counts=True)).T)"
   ]
  },
  {
   "cell_type": "code",
   "execution_count": 32,
   "metadata": {},
   "outputs": [
    {
     "name": "stdout",
     "output_type": "stream",
     "text": [
      "('features', (7925, 10), 'labels', (7925,))\n",
      "Label Name  Count\n",
      "[[   1 2784]\n",
      " [   2 1516]\n",
      " [   3 1197]\n",
      " [   4  269]\n",
      " [   5 1522]\n",
      " [   6  246]\n",
      " [   7  228]\n",
      " [   8  163]]\n"
     ]
    }
   ],
   "source": [
    "print(('features',x_test.shape,'labels',y_test.shape))                 #Test set size\n",
    "print('Label Name ' , 'Count')\n",
    "print(np.array(np.unique(y_test, return_counts=True)).T)"
   ]
  },
  {
   "cell_type": "markdown",
   "metadata": {},
   "source": [
    "## MLP MODEL"
   ]
  },
  {
   "cell_type": "code",
   "execution_count": 33,
   "metadata": {},
   "outputs": [],
   "source": [
    "from keras.layers import Dense, Activation\n",
    "from keras.models import Sequential\n",
    "from keras_utils import reset_tf_session\n",
    "import keras_utils\n",
    "from sklearn.metrics import accuracy_score\n"
   ]
  },
  {
   "cell_type": "code",
   "execution_count": 34,
   "metadata": {},
   "outputs": [
    {
     "name": "stdout",
     "output_type": "stream",
     "text": [
      "WARNING:tensorflow:From C:\\Users\\KIIT\\Anaconda3\\lib\\site-packages\\keras\\backend\\tensorflow_backend.py:59: The name tf.get_default_graph is deprecated. Please use tf.compat.v1.get_default_graph instead.\n",
      "\n",
      "WARNING:tensorflow:From C:\\Users\\KIIT\\Anaconda3\\lib\\site-packages\\keras\\backend\\tensorflow_backend.py:432: The name tf.placeholder is deprecated. Please use tf.compat.v1.placeholder instead.\n",
      "\n",
      "WARNING:tensorflow:From C:\\Users\\KIIT\\Anaconda3\\lib\\site-packages\\keras\\backend\\tensorflow_backend.py:3535: The name tf.random_uniform is deprecated. Please use tf.random.uniform instead.\n",
      "\n"
     ]
    }
   ],
   "source": [
    "#------MLP-----#\n",
    "s = reset_tf_session\n",
    "model = Sequential()\n",
    "model.add(Dense(40,activation='relu',input_shape=(10,)))\n",
    "model.add(Dense(40,activation='relu'))\n",
    "model.add(Dense(9,activation='softmax'))"
   ]
  },
  {
   "cell_type": "code",
   "execution_count": 35,
   "metadata": {},
   "outputs": [
    {
     "name": "stdout",
     "output_type": "stream",
     "text": [
      "_________________________________________________________________\n",
      "Layer (type)                 Output Shape              Param #   \n",
      "=================================================================\n",
      "dense_1 (Dense)              (None, 40)                440       \n",
      "_________________________________________________________________\n",
      "dense_2 (Dense)              (None, 40)                1640      \n",
      "_________________________________________________________________\n",
      "dense_3 (Dense)              (None, 9)                 369       \n",
      "=================================================================\n",
      "Total params: 2,449\n",
      "Trainable params: 2,449\n",
      "Non-trainable params: 0\n",
      "_________________________________________________________________\n"
     ]
    }
   ],
   "source": [
    "model.summary()"
   ]
  },
  {
   "cell_type": "code",
   "execution_count": 36,
   "metadata": {},
   "outputs": [
    {
     "name": "stdout",
     "output_type": "stream",
     "text": [
      "WARNING:tensorflow:From C:\\Users\\KIIT\\Anaconda3\\lib\\site-packages\\keras\\optimizers.py:697: The name tf.train.Optimizer is deprecated. Please use tf.compat.v1.train.Optimizer instead.\n",
      "\n",
      "WARNING:tensorflow:From C:\\Users\\KIIT\\Anaconda3\\lib\\site-packages\\keras\\backend\\tensorflow_backend.py:2775: The name tf.log is deprecated. Please use tf.math.log instead.\n",
      "\n",
      "WARNING:tensorflow:From C:\\Users\\KIIT\\Anaconda3\\lib\\site-packages\\keras\\backend\\tensorflow_backend.py:1156: calling reduce_max_v1 (from tensorflow.python.ops.math_ops) with keep_dims is deprecated and will be removed in a future version.\n",
      "Instructions for updating:\n",
      "keep_dims is deprecated, use keepdims instead\n"
     ]
    }
   ],
   "source": [
    " model.compile(optimizer='rmsprop', loss='sparse_categorical_crossentropy', metrics=['accuracy'])"
   ]
  },
  {
   "cell_type": "code",
   "execution_count": 37,
   "metadata": {},
   "outputs": [
    {
     "name": "stdout",
     "output_type": "stream",
     "text": [
      "WARNING:tensorflow:From C:\\Users\\KIIT\\Anaconda3\\lib\\site-packages\\keras\\backend\\tensorflow_backend.py:2289: The name tf.Session is deprecated. Please use tf.compat.v1.Session instead.\n",
      "\n",
      "WARNING:tensorflow:From C:\\Users\\KIIT\\Anaconda3\\lib\\site-packages\\tensorflow_core\\python\\ops\\math_grad.py:1424: where (from tensorflow.python.ops.array_ops) is deprecated and will be removed in a future version.\n",
      "Instructions for updating:\n",
      "Use tf.where in 2.0, which has the same broadcast rule as np.where\n",
      "WARNING:tensorflow:From C:\\Users\\KIIT\\Anaconda3\\lib\\site-packages\\keras\\backend\\tensorflow_backend.py:602: calling Constant.__init__ (from tensorflow.python.ops.init_ops) with dtype is deprecated and will be removed in a future version.\n",
      "Instructions for updating:\n",
      "Call initializer instance with the dtype argument instead of passing it to the constructor\n",
      "WARNING:tensorflow:From C:\\Users\\KIIT\\Anaconda3\\lib\\site-packages\\keras\\backend\\tensorflow_backend.py:866: The name tf.assign is deprecated. Please use tf.compat.v1.assign instead.\n",
      "\n",
      "\n",
      "Epoch 1/15\n"
     ]
    },
    {
     "data": {
      "application/vnd.jupyter.widget-view+json": {
       "model_id": "027b1f68dd7e43078efbfd27953ae1c7",
       "version_major": 2,
       "version_minor": 0
      },
      "text/plain": [
       "HBox(children=(IntProgress(value=0, max=36982), HTML(value='')))"
      ]
     },
     "metadata": {},
     "output_type": "display_data"
    },
    {
     "name": "stdout",
     "output_type": "stream",
     "text": [
      "WARNING:tensorflow:From C:\\Users\\KIIT\\Anaconda3\\lib\\site-packages\\keras\\backend\\tensorflow_backend.py:154: The name tf.get_default_session is deprecated. Please use tf.compat.v1.get_default_session instead.\n",
      "\n",
      "WARNING:tensorflow:From C:\\Users\\KIIT\\Anaconda3\\lib\\site-packages\\keras\\backend\\tensorflow_backend.py:159: The name tf.ConfigProto is deprecated. Please use tf.compat.v1.ConfigProto instead.\n",
      "\n",
      "WARNING:tensorflow:From C:\\Users\\KIIT\\Anaconda3\\lib\\site-packages\\keras\\backend\\tensorflow_backend.py:333: The name tf.global_variables is deprecated. Please use tf.compat.v1.global_variables instead.\n",
      "\n",
      "WARNING:tensorflow:From C:\\Users\\KIIT\\Anaconda3\\lib\\site-packages\\keras\\backend\\tensorflow_backend.py:341: The name tf.variables_initializer is deprecated. Please use tf.compat.v1.variables_initializer instead.\n",
      "\n",
      "\n",
      "\n",
      "Epoch 2/15\n"
     ]
    },
    {
     "data": {
      "application/vnd.jupyter.widget-view+json": {
       "model_id": "a1a841ee8e094957a18db53e4b930de2",
       "version_major": 2,
       "version_minor": 0
      },
      "text/plain": [
       "HBox(children=(IntProgress(value=0, max=36982), HTML(value='')))"
      ]
     },
     "metadata": {},
     "output_type": "display_data"
    },
    {
     "name": "stdout",
     "output_type": "stream",
     "text": [
      "\n",
      "\n",
      "Epoch 3/15\n"
     ]
    },
    {
     "data": {
      "application/vnd.jupyter.widget-view+json": {
       "model_id": "3acfa077834d4fec9aac4d9214315842",
       "version_major": 2,
       "version_minor": 0
      },
      "text/plain": [
       "HBox(children=(IntProgress(value=0, max=36982), HTML(value='')))"
      ]
     },
     "metadata": {},
     "output_type": "display_data"
    },
    {
     "name": "stdout",
     "output_type": "stream",
     "text": [
      "\n",
      "\n",
      "Epoch 4/15\n"
     ]
    },
    {
     "data": {
      "application/vnd.jupyter.widget-view+json": {
       "model_id": "9a85eef32ea54e048888aa2bbc55d301",
       "version_major": 2,
       "version_minor": 0
      },
      "text/plain": [
       "HBox(children=(IntProgress(value=0, max=36982), HTML(value='')))"
      ]
     },
     "metadata": {},
     "output_type": "display_data"
    },
    {
     "name": "stdout",
     "output_type": "stream",
     "text": [
      "\n",
      "\n",
      "Epoch 5/15\n"
     ]
    },
    {
     "data": {
      "application/vnd.jupyter.widget-view+json": {
       "model_id": "46f435d89482499db61880ed2ff9eb75",
       "version_major": 2,
       "version_minor": 0
      },
      "text/plain": [
       "HBox(children=(IntProgress(value=0, max=36982), HTML(value='')))"
      ]
     },
     "metadata": {},
     "output_type": "display_data"
    },
    {
     "name": "stdout",
     "output_type": "stream",
     "text": [
      "\n",
      "\n",
      "Epoch 6/15\n"
     ]
    },
    {
     "data": {
      "application/vnd.jupyter.widget-view+json": {
       "model_id": "7ab8af88c06b43e78b07003820217d0d",
       "version_major": 2,
       "version_minor": 0
      },
      "text/plain": [
       "HBox(children=(IntProgress(value=0, max=36982), HTML(value='')))"
      ]
     },
     "metadata": {},
     "output_type": "display_data"
    },
    {
     "name": "stdout",
     "output_type": "stream",
     "text": [
      "\n",
      "\n",
      "Epoch 7/15\n"
     ]
    },
    {
     "data": {
      "application/vnd.jupyter.widget-view+json": {
       "model_id": "eb167eb2e587429db43480b8e8d709b6",
       "version_major": 2,
       "version_minor": 0
      },
      "text/plain": [
       "HBox(children=(IntProgress(value=0, max=36982), HTML(value='')))"
      ]
     },
     "metadata": {},
     "output_type": "display_data"
    },
    {
     "name": "stdout",
     "output_type": "stream",
     "text": [
      "\n",
      "\n",
      "Epoch 8/15\n"
     ]
    },
    {
     "data": {
      "application/vnd.jupyter.widget-view+json": {
       "model_id": "872a222f011b4a5ba0dcfb3338b64357",
       "version_major": 2,
       "version_minor": 0
      },
      "text/plain": [
       "HBox(children=(IntProgress(value=0, max=36982), HTML(value='')))"
      ]
     },
     "metadata": {},
     "output_type": "display_data"
    },
    {
     "name": "stdout",
     "output_type": "stream",
     "text": [
      "\n",
      "\n",
      "Epoch 9/15\n"
     ]
    },
    {
     "data": {
      "application/vnd.jupyter.widget-view+json": {
       "model_id": "55621c88a101426ca23e1fd94d7d4071",
       "version_major": 2,
       "version_minor": 0
      },
      "text/plain": [
       "HBox(children=(IntProgress(value=0, max=36982), HTML(value='')))"
      ]
     },
     "metadata": {},
     "output_type": "display_data"
    },
    {
     "name": "stdout",
     "output_type": "stream",
     "text": [
      "\n",
      "\n",
      "Epoch 10/15\n"
     ]
    },
    {
     "data": {
      "application/vnd.jupyter.widget-view+json": {
       "model_id": "e01260af4cc94cdca0a2a59765ab4733",
       "version_major": 2,
       "version_minor": 0
      },
      "text/plain": [
       "HBox(children=(IntProgress(value=0, max=36982), HTML(value='')))"
      ]
     },
     "metadata": {},
     "output_type": "display_data"
    },
    {
     "name": "stdout",
     "output_type": "stream",
     "text": [
      "\n",
      "\n",
      "Epoch 11/15\n"
     ]
    },
    {
     "data": {
      "application/vnd.jupyter.widget-view+json": {
       "model_id": "4b3ca7263b0e4dec8a3417a594f0604d",
       "version_major": 2,
       "version_minor": 0
      },
      "text/plain": [
       "HBox(children=(IntProgress(value=0, max=36982), HTML(value='')))"
      ]
     },
     "metadata": {},
     "output_type": "display_data"
    },
    {
     "name": "stdout",
     "output_type": "stream",
     "text": [
      "\n",
      "\n",
      "Epoch 12/15\n"
     ]
    },
    {
     "data": {
      "application/vnd.jupyter.widget-view+json": {
       "model_id": "7f0e42e02af34f93b160089664a0194b",
       "version_major": 2,
       "version_minor": 0
      },
      "text/plain": [
       "HBox(children=(IntProgress(value=0, max=36982), HTML(value='')))"
      ]
     },
     "metadata": {},
     "output_type": "display_data"
    },
    {
     "name": "stdout",
     "output_type": "stream",
     "text": [
      "\n",
      "\n",
      "Epoch 13/15\n"
     ]
    },
    {
     "data": {
      "application/vnd.jupyter.widget-view+json": {
       "model_id": "6bd1ed4d9ba84c9f903d57cc810e7c6f",
       "version_major": 2,
       "version_minor": 0
      },
      "text/plain": [
       "HBox(children=(IntProgress(value=0, max=36982), HTML(value='')))"
      ]
     },
     "metadata": {},
     "output_type": "display_data"
    },
    {
     "name": "stdout",
     "output_type": "stream",
     "text": [
      "\n",
      "\n",
      "Epoch 14/15\n"
     ]
    },
    {
     "data": {
      "application/vnd.jupyter.widget-view+json": {
       "model_id": "1c112482e498499c873f63160afccaf5",
       "version_major": 2,
       "version_minor": 0
      },
      "text/plain": [
       "HBox(children=(IntProgress(value=0, max=36982), HTML(value='')))"
      ]
     },
     "metadata": {},
     "output_type": "display_data"
    },
    {
     "name": "stdout",
     "output_type": "stream",
     "text": [
      "\n",
      "\n",
      "Epoch 15/15\n"
     ]
    },
    {
     "data": {
      "application/vnd.jupyter.widget-view+json": {
       "model_id": "2093cf4ee4f844dd80fb00d9be7f8575",
       "version_major": 2,
       "version_minor": 0
      },
      "text/plain": [
       "HBox(children=(IntProgress(value=0, max=36982), HTML(value='')))"
      ]
     },
     "metadata": {},
     "output_type": "display_data"
    },
    {
     "name": "stdout",
     "output_type": "stream",
     "text": [
      "\n"
     ]
    }
   ],
   "source": [
    "# Training\n",
    "history = model.fit(x_train, y_train ,batch_size=32,  epochs=15, validation_data=(x_val, y_val),  callbacks=[keras_utils.TqdmProgressCallback()], verbose=0)"
   ]
  },
  {
   "cell_type": "code",
   "execution_count": 38,
   "metadata": {},
   "outputs": [
    {
     "name": "stdout",
     "output_type": "stream",
     "text": [
      "dict_keys(['val_loss', 'val_acc', 'loss', 'acc'])\n"
     ]
    },
    {
     "data": {
      "image/png": "[encoded data removed]",
      "text/plain": [
       "<Figure size 432x288 with 1 Axes>"
      ]
     },
     "metadata": {
      "needs_background": "light"
     },
     "output_type": "display_data"
    },
    {
     "data": {
      "image/png": "[encoded data removed]",
      "text/plain": [
       "<Figure size 432x288 with 1 Axes>"
      ]
     },
     "metadata": {
      "needs_background": "light"
     },
     "output_type": "display_data"
    }
   ],
   "source": [
    "## Learning curve for MLP ##\n",
    "\n",
    "print(history.history.keys())\n",
    "# summarize history for accuracy\n",
    "plt.plot(history.history['acc'])\n",
    "plt.plot(history.history['val_acc'])\n",
    "plt.title('model accuracy')\n",
    "plt.ylabel('accuracy')\n",
    "plt.xlabel('epoch')\n",
    "plt.legend(['Train', 'Val'], loc='lower right')\n",
    "plt.show()\n",
    "# summarize history for loss\n",
    "plt.plot(history.history['loss'])\n",
    "plt.plot(history.history['val_loss'])\n",
    "plt.title('model loss')\n",
    "plt.ylabel('loss')\n",
    "plt.xlabel('epoch')\n",
    "plt.legend(['Train', 'Val'], loc='upper right')\n",
    "plt.show()"
   ]
  },
  {
   "cell_type": "code",
   "execution_count": 39,
   "metadata": {},
   "outputs": [
    {
     "name": "stdout",
     "output_type": "stream",
     "text": [
      "6976/7925 [=========================>....] - ETA:  - ETA:  - ETA:  - ETA: 0s"
     ]
    }
   ],
   "source": [
    "y_pred = model.predict_classes(x_test,batch_size=32)\n",
    "acc_test = accuracy_score(y_test, y_pred)"
   ]
  },
  {
   "cell_type": "markdown",
   "metadata": {},
   "source": [
    "## CONVOLUTIONAL MODEL"
   ]
  },
  {
   "cell_type": "code",
   "execution_count": 40,
   "metadata": {},
   "outputs": [],
   "source": [
    "from keras.layers import Conv1D,Dropout,MaxPooling1D,Flatten"
   ]
  },
  {
   "cell_type": "code",
   "execution_count": 41,
   "metadata": {},
   "outputs": [
    {
     "name": "stdout",
     "output_type": "stream",
     "text": [
      "WARNING:tensorflow:From C:\\Users\\KIIT\\Anaconda3\\lib\\site-packages\\keras\\backend\\tensorflow_backend.py:1210: calling reduce_prod_v1 (from tensorflow.python.ops.math_ops) with keep_dims is deprecated and will be removed in a future version.\n",
      "Instructions for updating:\n",
      "keep_dims is deprecated, use keepdims instead\n"
     ]
    }
   ],
   "source": [
    "#------CNN-----#\n",
    "s = reset_tf_session\n",
    "model_cnn = Sequential()\n",
    "model_cnn.add(Conv1D(filters=64, kernel_size=3, activation='relu', input_shape=(10,1)))\n",
    "model_cnn.add(Conv1D(filters=64, kernel_size=3, activation='relu'))\n",
    "model_cnn.add(Conv1D(filters=64, kernel_size=3, activation='relu'))\n",
    "model_cnn.add(Flatten())\n",
    "model_cnn.add(Dense(40, activation='relu'))\n",
    "model_cnn.add(Dense(9, activation='softmax'))"
   ]
  },
  {
   "cell_type": "code",
   "execution_count": 42,
   "metadata": {},
   "outputs": [
    {
     "name": "stdout",
     "output_type": "stream",
     "text": [
      "_________________________________________________________________\n",
      "Layer (type)                 Output Shape              Param #   \n",
      "=================================================================\n",
      "conv1d_1 (Conv1D)            (None, 8, 64)             256       \n",
      "_________________________________________________________________\n",
      "conv1d_2 (Conv1D)            (None, 6, 64)             12352     \n",
      "_________________________________________________________________\n",
      "conv1d_3 (Conv1D)            (None, 4, 64)             12352     \n",
      "_________________________________________________________________\n",
      "flatten_1 (Flatten)          (None, 256)               0         \n",
      "_________________________________________________________________\n",
      "dense_4 (Dense)              (None, 40)                10280     \n",
      "_________________________________________________________________\n",
      "dense_5 (Dense)              (None, 9)                 369       \n",
      "=================================================================\n",
      "Total params: 35,609\n",
      "Trainable params: 35,609\n",
      "Non-trainable params: 0\n",
      "_________________________________________________________________\n"
     ]
    }
   ],
   "source": [
    "model_cnn.summary()"
   ]
  },
  {
   "cell_type": "code",
   "execution_count": 43,
   "metadata": {},
   "outputs": [],
   "source": [
    " model_cnn.compile(optimizer='rmsprop', loss='sparse_categorical_crossentropy', metrics=['accuracy'])"
   ]
  },
  {
   "cell_type": "code",
   "execution_count": 44,
   "metadata": {},
   "outputs": [],
   "source": [
    "x_train_cnn =np.expand_dims(x_train,axis=-1)\n",
    "x_val_cnn =np.expand_dims(x_val,axis=-1)\n",
    "x_test_cnn =np.expand_dims(x_test,axis=-1)"
   ]
  },
  {
   "cell_type": "code",
   "execution_count": 45,
   "metadata": {},
   "outputs": [
    {
     "data": {
      "text/plain": [
       "(36982, 10, 1)"
      ]
     },
     "execution_count": 45,
     "metadata": {},
     "output_type": "execute_result"
    }
   ],
   "source": [
    "x_train_cnn.shape"
   ]
  },
  {
   "cell_type": "code",
   "execution_count": 46,
   "metadata": {},
   "outputs": [
    {
     "name": "stdout",
     "output_type": "stream",
     "text": [
      "\n",
      "Epoch 1/15\n"
     ]
    },
    {
     "data": {
      "application/vnd.jupyter.widget-view+json": {
       "model_id": "d17b830028e440a6be9929e9d0c1a846",
       "version_major": 2,
       "version_minor": 0
      },
      "text/plain": [
       "HBox(children=(IntProgress(value=0, max=36982), HTML(value='')))"
      ]
     },
     "metadata": {},
     "output_type": "display_data"
    },
    {
     "name": "stdout",
     "output_type": "stream",
     "text": [
      "\n",
      "\n",
      "Epoch 2/15\n"
     ]
    },
    {
     "data": {
      "application/vnd.jupyter.widget-view+json": {
       "model_id": "0647ce5e0e3d421f9bf09ef0c6ec235e",
       "version_major": 2,
       "version_minor": 0
      },
      "text/plain": [
       "HBox(children=(IntProgress(value=0, max=36982), HTML(value='')))"
      ]
     },
     "metadata": {},
     "output_type": "display_data"
    },
    {
     "name": "stdout",
     "output_type": "stream",
     "text": [
      "\n",
      "\n",
      "Epoch 3/15\n"
     ]
    },
    {
     "data": {
      "application/vnd.jupyter.widget-view+json": {
       "model_id": "dff0bd17a0df4f2da69102300994c172",
       "version_major": 2,
       "version_minor": 0
      },
      "text/plain": [
       "HBox(children=(IntProgress(value=0, max=36982), HTML(value='')))"
      ]
     },
     "metadata": {},
     "output_type": "display_data"
    },
    {
     "name": "stdout",
     "output_type": "stream",
     "text": [
      "\n",
      "\n",
      "Epoch 4/15\n"
     ]
    },
    {
     "data": {
      "application/vnd.jupyter.widget-view+json": {
       "model_id": "3e197c19578b4852bce836322a5d25f6",
       "version_major": 2,
       "version_minor": 0
      },
      "text/plain": [
       "HBox(children=(IntProgress(value=0, max=36982), HTML(value='')))"
      ]
     },
     "metadata": {},
     "output_type": "display_data"
    },
    {
     "name": "stdout",
     "output_type": "stream",
     "text": [
      "\n",
      "\n",
      "Epoch 5/15\n"
     ]
    },
    {
     "data": {
      "application/vnd.jupyter.widget-view+json": {
       "model_id": "f284ee4cbea0409e8b117a55ca891a6d",
       "version_major": 2,
       "version_minor": 0
      },
      "text/plain": [
       "HBox(children=(IntProgress(value=0, max=36982), HTML(value='')))"
      ]
     },
     "metadata": {},
     "output_type": "display_data"
    },
    {
     "name": "stdout",
     "output_type": "stream",
     "text": [
      "\n",
      "\n",
      "Epoch 6/15\n"
     ]
    },
    {
     "data": {
      "application/vnd.jupyter.widget-view+json": {
       "model_id": "d3cd8dfba51540bc869604778b303271",
       "version_major": 2,
       "version_minor": 0
      },
      "text/plain": [
       "HBox(children=(IntProgress(value=0, max=36982), HTML(value='')))"
      ]
     },
     "metadata": {},
     "output_type": "display_data"
    },
    {
     "name": "stdout",
     "output_type": "stream",
     "text": [
      "\n",
      "\n",
      "Epoch 7/15\n"
     ]
    },
    {
     "data": {
      "application/vnd.jupyter.widget-view+json": {
       "model_id": "164e4635227b454fb4ca464e3733df47",
       "version_major": 2,
       "version_minor": 0
      },
      "text/plain": [
       "HBox(children=(IntProgress(value=0, max=36982), HTML(value='')))"
      ]
     },
     "metadata": {},
     "output_type": "display_data"
    },
    {
     "name": "stdout",
     "output_type": "stream",
     "text": [
      "\n",
      "\n",
      "Epoch 8/15\n"
     ]
    },
    {
     "data": {
      "application/vnd.jupyter.widget-view+json": {
       "model_id": "f883dd87fef04841939a26555d474c15",
       "version_major": 2,
       "version_minor": 0
      },
      "text/plain": [
       "HBox(children=(IntProgress(value=0, max=36982), HTML(value='')))"
      ]
     },
     "metadata": {},
     "output_type": "display_data"
    },
    {
     "name": "stdout",
     "output_type": "stream",
     "text": [
      "\n",
      "\n",
      "Epoch 9/15\n"
     ]
    },
    {
     "data": {
      "application/vnd.jupyter.widget-view+json": {
       "model_id": "8f79238c3520432896ab6a24090c1241",
       "version_major": 2,
       "version_minor": 0
      },
      "text/plain": [
       "HBox(children=(IntProgress(value=0, max=36982), HTML(value='')))"
      ]
     },
     "metadata": {},
     "output_type": "display_data"
    },
    {
     "name": "stdout",
     "output_type": "stream",
     "text": [
      "\n",
      "\n",
      "Epoch 10/15\n"
     ]
    },
    {
     "data": {
      "application/vnd.jupyter.widget-view+json": {
       "model_id": "69a594f9e09b4c409dcefa4eb99a90f7",
       "version_major": 2,
       "version_minor": 0
      },
      "text/plain": [
       "HBox(children=(IntProgress(value=0, max=36982), HTML(value='')))"
      ]
     },
     "metadata": {},
     "output_type": "display_data"
    },
    {
     "name": "stdout",
     "output_type": "stream",
     "text": [
      "\n",
      "\n",
      "Epoch 11/15\n"
     ]
    },
    {
     "data": {
      "application/vnd.jupyter.widget-view+json": {
       "model_id": "62dcf81c6861437095e3f286f46c37b5",
       "version_major": 2,
       "version_minor": 0
      },
      "text/plain": [
       "HBox(children=(IntProgress(value=0, max=36982), HTML(value='')))"
      ]
     },
     "metadata": {},
     "output_type": "display_data"
    },
    {
     "name": "stdout",
     "output_type": "stream",
     "text": [
      "\n",
      "\n",
      "Epoch 12/15\n"
     ]
    },
    {
     "data": {
      "application/vnd.jupyter.widget-view+json": {
       "model_id": "36f9dea7065647859173e46d32a30d21",
       "version_major": 2,
       "version_minor": 0
      },
      "text/plain": [
       "HBox(children=(IntProgress(value=0, max=36982), HTML(value='')))"
      ]
     },
     "metadata": {},
     "output_type": "display_data"
    },
    {
     "name": "stdout",
     "output_type": "stream",
     "text": [
      "\n",
      "\n",
      "Epoch 13/15\n"
     ]
    },
    {
     "data": {
      "application/vnd.jupyter.widget-view+json": {
       "model_id": "bec18b466b9f44db994a195a9b6231f4",
       "version_major": 2,
       "version_minor": 0
      },
      "text/plain": [
       "HBox(children=(IntProgress(value=0, max=36982), HTML(value='')))"
      ]
     },
     "metadata": {},
     "output_type": "display_data"
    },
    {
     "name": "stdout",
     "output_type": "stream",
     "text": [
      "\n",
      "\n",
      "Epoch 14/15\n"
     ]
    },
    {
     "data": {
      "application/vnd.jupyter.widget-view+json": {
       "model_id": "5ae0978638414c36b5d2c2561861a1e2",
       "version_major": 2,
       "version_minor": 0
      },
      "text/plain": [
       "HBox(children=(IntProgress(value=0, max=36982), HTML(value='')))"
      ]
     },
     "metadata": {},
     "output_type": "display_data"
    },
    {
     "name": "stdout",
     "output_type": "stream",
     "text": [
      "\n",
      "\n",
      "Epoch 15/15\n"
     ]
    },
    {
     "data": {
      "application/vnd.jupyter.widget-view+json": {
       "model_id": "7ccb41a8ed8d49c8951dd9ee2f77d360",
       "version_major": 2,
       "version_minor": 0
      },
      "text/plain": [
       "HBox(children=(IntProgress(value=0, max=36982), HTML(value='')))"
      ]
     },
     "metadata": {},
     "output_type": "display_data"
    },
    {
     "name": "stdout",
     "output_type": "stream",
     "text": [
      "\n"
     ]
    }
   ],
   "source": [
    "history_cnn = model_cnn.fit(x_train_cnn, y_train ,batch_size=32,  epochs=15, validation_data=(x_val_cnn, y_val),  callbacks=[keras_utils.TqdmProgressCallback()], verbose=0)"
   ]
  },
  {
   "cell_type": "code",
   "execution_count": 47,
   "metadata": {},
   "outputs": [
    {
     "name": "stdout",
     "output_type": "stream",
     "text": [
      "dict_keys(['val_loss', 'val_acc', 'loss', 'acc'])\n"
     ]
    },
    {
     "data": {
      "image/png": "[encoded data removed]",
      "text/plain": [
       "<Figure size 432x288 with 1 Axes>"
      ]
     },
     "metadata": {
      "needs_background": "light"
     },
     "output_type": "display_data"
    },
    {
     "data": {
      "image/png": "[encoded data removed]",
      "text/plain": [
       "<Figure size 432x288 with 1 Axes>"
      ]
     },
     "metadata": {
      "needs_background": "light"
     },
     "output_type": "display_data"
    }
   ],
   "source": [
    "#-- CNN tranning curve -- #\n",
    "\n",
    "print(history_cnn.history.keys())\n",
    "# summarize history for accuracy\n",
    "plt.plot(history_cnn.history['acc'])\n",
    "plt.plot(history_cnn.history['val_acc'])\n",
    "plt.title('model accuracy')\n",
    "plt.ylabel('accuracy')\n",
    "plt.xlabel('epoch')\n",
    "plt.legend(['Train', 'Val'], loc='lower right')\n",
    "plt.show()\n",
    "# summarize history for loss\n",
    "plt.plot(history_cnn.history['loss'])\n",
    "plt.plot(history_cnn.history['val_loss'])\n",
    "plt.title('model loss')\n",
    "plt.ylabel('loss')\n",
    "plt.xlabel('epoch')\n",
    "plt.legend(['Train', 'Val'], loc='upper right')\n",
    "plt.show()"
   ]
  },
  {
   "cell_type": "code",
   "execution_count": 48,
   "metadata": {},
   "outputs": [
    {
     "name": "stdout",
     "output_type": "stream",
     "text": [
      "7925/7925 [==============================] - ETA: 17 - ETA: 0 - ETA:  - ETA:  - ETA:  - ETA:  - ETA:  - ETA:  - ETA:  - 0s     \n"
     ]
    }
   ],
   "source": [
    "y_pred_cnn = model_cnn.predict_classes(x_test_cnn,batch_size=32)\n",
    "acc_test_cnn = accuracy_score(y_test, y_pred_cnn)"
   ]
  },
  {
   "cell_type": "markdown",
   "metadata": {},
   "source": [
    "## BIDIRECTIONAL LSTM MODEL"
   ]
  },
  {
   "cell_type": "code",
   "execution_count": 49,
   "metadata": {},
   "outputs": [],
   "source": [
    "from keras.layers import Bidirectional, LSTM , TimeDistributed"
   ]
  },
  {
   "cell_type": "code",
   "execution_count": 50,
   "metadata": {},
   "outputs": [
    {
     "name": "stdout",
     "output_type": "stream",
     "text": [
      "WARNING:tensorflow:From C:\\Users\\KIIT\\Anaconda3\\lib\\site-packages\\keras\\backend\\tensorflow_backend.py:79: The name tf.reset_default_graph is deprecated. Please use tf.compat.v1.reset_default_graph instead.\n",
      "\n",
      "WARNING:tensorflow:From C:\\Users\\KIIT\\keras_utils.py:77: The name tf.InteractiveSession is deprecated. Please use tf.compat.v1.InteractiveSession instead.\n",
      "\n",
      "WARNING:tensorflow:From C:\\Users\\KIIT\\Anaconda3\\lib\\site-packages\\keras\\backend\\tensorflow_backend.py:1192: calling reduce_sum_v1 (from tensorflow.python.ops.math_ops) with keep_dims is deprecated and will be removed in a future version.\n",
      "Instructions for updating:\n",
      "keep_dims is deprecated, use keepdims instead\n"
     ]
    }
   ],
   "source": [
    "#---- LSTM -----#\n",
    "s = reset_tf_session()\n",
    "model_rnn = Sequential()\n",
    "model_rnn.add(Bidirectional(LSTM(64 , return_sequences = True, input_shape = (x_train.shape[0] , x_train.shape[1])) , input_shape = (10,1)))\n",
    "model_rnn.add(Flatten())\n",
    "model_rnn.add(Dense(9, activation = 'softmax'))"
   ]
  },
  {
   "cell_type": "code",
   "execution_count": 51,
   "metadata": {},
   "outputs": [
    {
     "name": "stdout",
     "output_type": "stream",
     "text": [
      "_________________________________________________________________\n",
      "Layer (type)                 Output Shape              Param #   \n",
      "=================================================================\n",
      "bidirectional_1 (Bidirection (None, 10, 128)           33792     \n",
      "_________________________________________________________________\n",
      "flatten_1 (Flatten)          (None, 1280)              0         \n",
      "_________________________________________________________________\n",
      "dense_1 (Dense)              (None, 9)                 11529     \n",
      "=================================================================\n",
      "Total params: 45,321\n",
      "Trainable params: 45,321\n",
      "Non-trainable params: 0\n",
      "_________________________________________________________________\n"
     ]
    }
   ],
   "source": [
    "model_rnn.summary()"
   ]
  },
  {
   "cell_type": "code",
   "execution_count": 52,
   "metadata": {},
   "outputs": [],
   "source": [
    " model_rnn.compile(optimizer='rmsprop', loss='sparse_categorical_crossentropy', metrics=['accuracy'])"
   ]
  },
  {
   "cell_type": "code",
   "execution_count": 53,
   "metadata": {},
   "outputs": [
    {
     "name": "stdout",
     "output_type": "stream",
     "text": [
      "\n",
      "Epoch 1/15\n"
     ]
    },
    {
     "data": {
      "application/vnd.jupyter.widget-view+json": {
       "model_id": "ec1fc878b6f3497eac94bc769a282386",
       "version_major": 2,
       "version_minor": 0
      },
      "text/plain": [
       "HBox(children=(IntProgress(value=0, max=36982), HTML(value='')))"
      ]
     },
     "metadata": {},
     "output_type": "display_data"
    },
    {
     "name": "stdout",
     "output_type": "stream",
     "text": [
      "\n",
      "\n",
      "Epoch 2/15\n"
     ]
    },
    {
     "data": {
      "application/vnd.jupyter.widget-view+json": {
       "model_id": "9040a0755f334f0d9a065f86a87e87b8",
       "version_major": 2,
       "version_minor": 0
      },
      "text/plain": [
       "HBox(children=(IntProgress(value=0, max=36982), HTML(value='')))"
      ]
     },
     "metadata": {},
     "output_type": "display_data"
    },
    {
     "name": "stdout",
     "output_type": "stream",
     "text": [
      "\n",
      "\n",
      "Epoch 3/15\n"
     ]
    },
    {
     "data": {
      "application/vnd.jupyter.widget-view+json": {
       "model_id": "58b7fcd63f7549d3a587529ae82c8f9f",
       "version_major": 2,
       "version_minor": 0
      },
      "text/plain": [
       "HBox(children=(IntProgress(value=0, max=36982), HTML(value='')))"
      ]
     },
     "metadata": {},
     "output_type": "display_data"
    },
    {
     "name": "stdout",
     "output_type": "stream",
     "text": [
      "\n",
      "\n",
      "Epoch 4/15\n"
     ]
    },
    {
     "data": {
      "application/vnd.jupyter.widget-view+json": {
       "model_id": "cf87c9ace6644257acaed4c99ca8d0d3",
       "version_major": 2,
       "version_minor": 0
      },
      "text/plain": [
       "HBox(children=(IntProgress(value=0, max=36982), HTML(value='')))"
      ]
     },
     "metadata": {},
     "output_type": "display_data"
    },
    {
     "name": "stdout",
     "output_type": "stream",
     "text": [
      "\n",
      "\n",
      "Epoch 5/15\n"
     ]
    },
    {
     "data": {
      "application/vnd.jupyter.widget-view+json": {
       "model_id": "2ebe74aefc814463931b11ab1b05f0c3",
       "version_major": 2,
       "version_minor": 0
      },
      "text/plain": [
       "HBox(children=(IntProgress(value=0, max=36982), HTML(value='')))"
      ]
     },
     "metadata": {},
     "output_type": "display_data"
    },
    {
     "name": "stdout",
     "output_type": "stream",
     "text": [
      "\n",
      "\n",
      "Epoch 6/15\n"
     ]
    },
    {
     "data": {
      "application/vnd.jupyter.widget-view+json": {
       "model_id": "3877bb17ac1146d39af250c39554d391",
       "version_major": 2,
       "version_minor": 0
      },
      "text/plain": [
       "HBox(children=(IntProgress(value=0, max=36982), HTML(value='')))"
      ]
     },
     "metadata": {},
     "output_type": "display_data"
    },
    {
     "name": "stdout",
     "output_type": "stream",
     "text": [
      "\n",
      "\n",
      "Epoch 7/15\n"
     ]
    },
    {
     "data": {
      "application/vnd.jupyter.widget-view+json": {
       "model_id": "9fb34c9a14d74037a96a8a4c5c9818c7",
       "version_major": 2,
       "version_minor": 0
      },
      "text/plain": [
       "HBox(children=(IntProgress(value=0, max=36982), HTML(value='')))"
      ]
     },
     "metadata": {},
     "output_type": "display_data"
    },
    {
     "name": "stdout",
     "output_type": "stream",
     "text": [
      "\n",
      "\n",
      "Epoch 8/15\n"
     ]
    },
    {
     "data": {
      "application/vnd.jupyter.widget-view+json": {
       "model_id": "1658018a147c420fa4869a43acb5cc61",
       "version_major": 2,
       "version_minor": 0
      },
      "text/plain": [
       "HBox(children=(IntProgress(value=0, max=36982), HTML(value='')))"
      ]
     },
     "metadata": {},
     "output_type": "display_data"
    },
    {
     "name": "stdout",
     "output_type": "stream",
     "text": [
      "\n",
      "\n",
      "Epoch 9/15\n"
     ]
    },
    {
     "data": {
      "application/vnd.jupyter.widget-view+json": {
       "model_id": "b51340bb05014ef1ac43cb8fa7e12a91",
       "version_major": 2,
       "version_minor": 0
      },
      "text/plain": [
       "HBox(children=(IntProgress(value=0, max=36982), HTML(value='')))"
      ]
     },
     "metadata": {},
     "output_type": "display_data"
    },
    {
     "name": "stdout",
     "output_type": "stream",
     "text": [
      "\n",
      "\n",
      "Epoch 10/15\n"
     ]
    },
    {
     "data": {
      "application/vnd.jupyter.widget-view+json": {
       "model_id": "4ecd041460494054ac313d55ca554aff",
       "version_major": 2,
       "version_minor": 0
      },
      "text/plain": [
       "HBox(children=(IntProgress(value=0, max=36982), HTML(value='')))"
      ]
     },
     "metadata": {},
     "output_type": "display_data"
    },
    {
     "name": "stdout",
     "output_type": "stream",
     "text": [
      "\n",
      "\n",
      "Epoch 11/15\n"
     ]
    },
    {
     "data": {
      "application/vnd.jupyter.widget-view+json": {
       "model_id": "5181ddb0d331462399857159c0d1590a",
       "version_major": 2,
       "version_minor": 0
      },
      "text/plain": [
       "HBox(children=(IntProgress(value=0, max=36982), HTML(value='')))"
      ]
     },
     "metadata": {},
     "output_type": "display_data"
    },
    {
     "name": "stdout",
     "output_type": "stream",
     "text": [
      "\n",
      "\n",
      "Epoch 12/15\n"
     ]
    },
    {
     "data": {
      "application/vnd.jupyter.widget-view+json": {
       "model_id": "7028fcbef8b448d99667c724f4ec5564",
       "version_major": 2,
       "version_minor": 0
      },
      "text/plain": [
       "HBox(children=(IntProgress(value=0, max=36982), HTML(value='')))"
      ]
     },
     "metadata": {},
     "output_type": "display_data"
    },
    {
     "name": "stdout",
     "output_type": "stream",
     "text": [
      "\n",
      "\n",
      "Epoch 13/15\n"
     ]
    },
    {
     "data": {
      "application/vnd.jupyter.widget-view+json": {
       "model_id": "b27fd147c9134daa8e3e3ebd8e23da79",
       "version_major": 2,
       "version_minor": 0
      },
      "text/plain": [
       "HBox(children=(IntProgress(value=0, max=36982), HTML(value='')))"
      ]
     },
     "metadata": {},
     "output_type": "display_data"
    },
    {
     "name": "stdout",
     "output_type": "stream",
     "text": [
      "\n",
      "\n",
      "Epoch 14/15\n"
     ]
    },
    {
     "data": {
      "application/vnd.jupyter.widget-view+json": {
       "model_id": "6290160229e846aeb86d3532ced845fb",
       "version_major": 2,
       "version_minor": 0
      },
      "text/plain": [
       "HBox(children=(IntProgress(value=0, max=36982), HTML(value='')))"
      ]
     },
     "metadata": {},
     "output_type": "display_data"
    },
    {
     "name": "stdout",
     "output_type": "stream",
     "text": [
      "\n",
      "\n",
      "Epoch 15/15\n"
     ]
    },
    {
     "data": {
      "application/vnd.jupyter.widget-view+json": {
       "model_id": "160ef993fcdf43b681d7469fcd19ab61",
       "version_major": 2,
       "version_minor": 0
      },
      "text/plain": [
       "HBox(children=(IntProgress(value=0, max=36982), HTML(value='')))"
      ]
     },
     "metadata": {},
     "output_type": "display_data"
    },
    {
     "name": "stdout",
     "output_type": "stream",
     "text": [
      "\n"
     ]
    }
   ],
   "source": [
    "# Training\n",
    "history_rnn = model_rnn.fit(x_train_cnn, y_train ,batch_size=32,  epochs=15, validation_data=(x_val_cnn, y_val),  callbacks=[keras_utils.TqdmProgressCallback()], verbose=0)"
   ]
  },
  {
   "cell_type": "code",
   "execution_count": 54,
   "metadata": {},
   "outputs": [
    {
     "name": "stdout",
     "output_type": "stream",
     "text": [
      "RNN curves\n",
      "dict_keys(['val_loss', 'val_acc', 'loss', 'acc'])\n"
     ]
    },
    {
     "data": {
      "image/png": "[encoded data removed]",
      "text/plain": [
       "<Figure size 432x288 with 1 Axes>"
      ]
     },
     "metadata": {
      "needs_background": "light"
     },
     "output_type": "display_data"
    },
    {
     "data": {
      "image/png": "[encoded data removed]",
      "text/plain": [
       "<Figure size 432x288 with 1 Axes>"
      ]
     },
     "metadata": {
      "needs_background": "light"
     },
     "output_type": "display_data"
    }
   ],
   "source": [
    "#-- RNN tranning curve -- #\n",
    "print('RNN curves')\n",
    "print(history_rnn.history.keys())\n",
    "# summarize history for accuracy\n",
    "plt.plot(history_rnn.history['acc'])\n",
    "plt.plot(history_rnn.history['val_acc'])\n",
    "plt.title('model accuracy')\n",
    "plt.ylabel('accuracy')\n",
    "plt.xlabel('epoch')\n",
    "plt.legend(['Train', 'Val'], loc='lower right')\n",
    "plt.show()\n",
    "# summarize history for loss\n",
    "plt.plot(history_rnn.history['loss'])\n",
    "plt.plot(history_rnn.history['val_loss'])\n",
    "plt.title('model loss')\n",
    "plt.ylabel('loss')\n",
    "plt.xlabel('epoch')\n",
    "plt.legend(['Train', 'Val'], loc='upper right')\n",
    "plt.show()"
   ]
  },
  {
   "cell_type": "code",
   "execution_count": 55,
   "metadata": {},
   "outputs": [],
   "source": [
    "#from keras.models import model_from_json"
   ]
  },
  {
   "cell_type": "code",
   "execution_count": 56,
   "metadata": {},
   "outputs": [],
   "source": [
    "#model_json = model_cnn.to_json()\n",
    "#with open(\"model_cnn.json\", \"w\") as json_file:\n",
    "#   json_file.write(model_json)\n",
    "#model_cnn.save_weights(\"model_cnn.h5\")"
   ]
  },
  {
   "cell_type": "code",
   "execution_count": 57,
   "metadata": {},
   "outputs": [],
   "source": [
    "#model_cnn.save('model_cnn.h5')"
   ]
  },
  {
   "cell_type": "code",
   "execution_count": 58,
   "metadata": {},
   "outputs": [],
   "source": [
    "#model_rnn.save('model_rnn.h5')"
   ]
  },
  {
   "cell_type": "code",
   "execution_count": 59,
   "metadata": {},
   "outputs": [
    {
     "name": "stdout",
     "output_type": "stream",
     "text": [
      "7925/7925 [==============================] - ETA: 47 - ETA: 5 - ETA:  - ETA:  - ETA:  - ETA:  - ETA:  - ETA:  - ETA:  - ETA:  - ETA:  - ETA:  - ETA:  - ETA:  - ETA:  - ETA:  - ETA:  - ETA:  - ETA:  - ETA:  - ETA:  - ETA:  - ETA:  - ETA:  - ETA:  - ETA:  - ETA:  - ETA:  - ETA:  - ETA:  - ETA:  - ETA:  - 1s     \n"
     ]
    }
   ],
   "source": [
    "y_pred_rnn = model_rnn.predict_classes(x_test_cnn,batch_size=32)\n",
    "acc_test_rnn = accuracy_score(y_test, y_pred_rnn)"
   ]
  },
  {
   "cell_type": "markdown",
   "metadata": {},
   "source": [
    "## RESULTS"
   ]
  },
  {
   "cell_type": "code",
   "execution_count": 60,
   "metadata": {},
   "outputs": [
    {
     "name": "stdout",
     "output_type": "stream",
     "text": [
      "Test set accuracy with MLP: 0.99016\n"
     ]
    }
   ],
   "source": [
    "print(\"Test set accuracy with MLP: {:.5f}\".format(acc_test))"
   ]
  },
  {
   "cell_type": "code",
   "execution_count": 61,
   "metadata": {},
   "outputs": [
    {
     "name": "stdout",
     "output_type": "stream",
     "text": [
      "Test set accuracy with CNN: 0.99243\n"
     ]
    }
   ],
   "source": [
    "print(\"Test set accuracy with CNN: {:.5f}\".format(acc_test_cnn))"
   ]
  },
  {
   "cell_type": "code",
   "execution_count": 62,
   "metadata": {},
   "outputs": [
    {
     "name": "stdout",
     "output_type": "stream",
     "text": [
      "Test set accuracy with RNN: 0.99546\n"
     ]
    }
   ],
   "source": [
    "print(\"Test set accuracy with RNN: {:.5f}\".format(acc_test_rnn))"
   ]
  },
  {
   "cell_type": "code",
   "execution_count": 63,
   "metadata": {},
   "outputs": [],
   "source": [
    "from sklearn.metrics import confusion_matrix"
   ]
  },
  {
   "cell_type": "code",
   "execution_count": 64,
   "metadata": {},
   "outputs": [
    {
     "name": "stdout",
     "output_type": "stream",
     "text": [
      "Confusion Matrix MLP\n",
      "\n",
      "[[2778    0    0    4    1    0    0    1]\n",
      " [   5 1504    2    2    2    0    0    1]\n",
      " [   0    0 1195    1    0    0    1    0]\n",
      " [   2    5    2  256    3    0    1    0]\n",
      " [   3    0    0    1 1506    1   11    0]\n",
      " [   1    3    0    1    1  236    2    2]\n",
      " [   3    0    2    0    6    0  216    1]\n",
      " [   0    1    0    3    0    3    0  156]]\n"
     ]
    }
   ],
   "source": [
    "confusion = confusion_matrix(y_test, y_pred)\n",
    "print('Confusion Matrix MLP\\n')\n",
    "print(confusion)"
   ]
  },
  {
   "cell_type": "code",
   "execution_count": 65,
   "metadata": {},
   "outputs": [
    {
     "name": "stdout",
     "output_type": "stream",
     "text": [
      "Confusion Matrix CNN\n",
      "\n",
      "[[2782    0    0    2    0    0    0    0]\n",
      " [   2 1512    0    0    1    0    0    1]\n",
      " [   0    0 1190    1    5    0    1    0]\n",
      " [   2    8    0  256    3    0    0    0]\n",
      " [   3    0    0    0 1515    1    3    0]\n",
      " [   1    2    0    4    5  232    0    2]\n",
      " [   1    1    0    1    4    0  221    0]\n",
      " [   0    0    0    1    2    3    0  157]]\n"
     ]
    }
   ],
   "source": [
    "confusion_cnn = confusion_matrix(y_test, y_pred_cnn)\n",
    "print('Confusion Matrix CNN\\n')\n",
    "print(confusion_cnn)"
   ]
  },
  {
   "cell_type": "code",
   "execution_count": 66,
   "metadata": {},
   "outputs": [
    {
     "name": "stdout",
     "output_type": "stream",
     "text": [
      "Confusion Matrix RNN\n",
      "\n",
      "[[2782    0    0    1    0    0    1    0]\n",
      " [   1 1514    0    0    1    0    0    0]\n",
      " [   0    0 1196    0    0    0    1    0]\n",
      " [   0    7    0  260    2    0    0    0]\n",
      " [   2    0    0    0 1513    0    7    0]\n",
      " [   0    3    2    2    0  237    0    2]\n",
      " [   1    0    0    0    2    0  225    0]\n",
      " [   0    0    0    0    0    0    1  162]]\n"
     ]
    }
   ],
   "source": [
    "confusion_rnn = confusion_matrix(y_test, y_pred_rnn)\n",
    "print('Confusion Matrix RNN\\n')\n",
    "print(confusion_rnn)"
   ]
  },
  {
   "cell_type": "code",
   "execution_count": 67,
   "metadata": {
    "scrolled": true
   },
   "outputs": [
    {
     "data": {
      "text/plain": [
       "[Text(0, 0, '0'),\n",
       " Text(0, 0, '1'),\n",
       " Text(0, 0, '2'),\n",
       " Text(0, 0, '3'),\n",
       " Text(0, 0, '4'),\n",
       " Text(0, 0, '5'),\n",
       " Text(0, 0, '6'),\n",
       " Text(0, 0, '7'),\n",
       " Text(0, 0, '8')]"
      ]
     },
     "execution_count": 67,
     "metadata": {},
     "output_type": "execute_result"
    },
    {
     "data": {
      "image/png": "[encoded data removed]",
      "text/plain": [
       "<Figure size 432x288 with 2 Axes>"
      ]
     },
     "metadata": {
      "needs_background": "light"
     },
     "output_type": "display_data"
    }
   ],
   "source": [
    "#---- MLP confusion matrix  ----#\n",
    "\n",
    "xlab = [0,1 , 2 ,3 ,4 ,5 ,6 ,7 ,8]\n",
    "ylab = [0,1 , 2 ,3 ,4 ,5 ,6 ,7 ,8]\n",
    "fig = plt.figure()\n",
    "conf_img = fig.add_subplot(111)\n",
    "confusion_matrix = conf_img.matshow(confusion , cmap=plt.cm.Blues )\n",
    "fig.colorbar(confusion_matrix)\n",
    "conf_img.set_xticklabels(xlab)\n",
    "conf_img.set_yticklabels(ylab)"
   ]
  },
  {
   "cell_type": "code",
   "execution_count": 68,
   "metadata": {},
   "outputs": [
    {
     "data": {
      "text/plain": [
       "[Text(0, 0, '0'),\n",
       " Text(0, 0, '1'),\n",
       " Text(0, 0, '2'),\n",
       " Text(0, 0, '3'),\n",
       " Text(0, 0, '4'),\n",
       " Text(0, 0, '5'),\n",
       " Text(0, 0, '6'),\n",
       " Text(0, 0, '7'),\n",
       " Text(0, 0, '8')]"
      ]
     },
     "execution_count": 68,
     "metadata": {},
     "output_type": "execute_result"
    },
    {
     "data": {
      "image/png": "[encoded data removed]",
      "text/plain": [
       "<Figure size 432x288 with 2 Axes>"
      ]
     },
     "metadata": {
      "needs_background": "light"
     },
     "output_type": "display_data"
    }
   ],
   "source": [
    "##---- CNN confusion matrix  ---#\n",
    "\n",
    "xlab = [0,1 , 2 ,3 ,4 ,5 ,6 ,7 ,8]\n",
    "ylab = [0,1 , 2 ,3 ,4 ,5 ,6 ,7 ,8]\n",
    "fig = plt.figure()\n",
    "conf_img = fig.add_subplot(111)\n",
    "confusion_matrix = conf_img.matshow(confusion_cnn , cmap=plt.cm.Blues )\n",
    "fig.colorbar(confusion_matrix)\n",
    "conf_img.set_xticklabels(xlab)\n",
    "conf_img.set_yticklabels(ylab)"
   ]
  },
  {
   "cell_type": "code",
   "execution_count": 69,
   "metadata": {},
   "outputs": [
    {
     "data": {
      "text/plain": [
       "[Text(0, 0, '0'),\n",
       " Text(0, 0, '1'),\n",
       " Text(0, 0, '2'),\n",
       " Text(0, 0, '3'),\n",
       " Text(0, 0, '4'),\n",
       " Text(0, 0, '5'),\n",
       " Text(0, 0, '6'),\n",
       " Text(0, 0, '7'),\n",
       " Text(0, 0, '8')]"
      ]
     },
     "execution_count": 69,
     "metadata": {},
     "output_type": "execute_result"
    },
    {
     "data": {
      "image/png": "[encoded data removed]",
      "text/plain": [
       "<Figure size 432x288 with 2 Axes>"
      ]
     },
     "metadata": {
      "needs_background": "light"
     },
     "output_type": "display_data"
    }
   ],
   "source": [
    "##---- RNN confusion matrix  ---#\n",
    "\n",
    "xlab = [0,1 , 2 ,3 ,4 ,5 ,6 ,7 ,8]\n",
    "ylab = [0,1 , 2 ,3 ,4 ,5 ,6 ,7 ,8]\n",
    "fig = plt.figure()\n",
    "conf_img = fig.add_subplot(111)\n",
    "confusion_matrix = conf_img.matshow(confusion_rnn , cmap=plt.cm.Blues )\n",
    "fig.colorbar(confusion_matrix)\n",
    "conf_img.set_xticklabels(xlab)\n",
    "conf_img.set_yticklabels(ylab)"
   ]
  },
  {
   "cell_type": "code",
   "execution_count": 70,
   "metadata": {},
   "outputs": [],
   "source": [
    "FP = confusion.sum(axis=0) - np.diag(confusion) \n",
    "FN = confusion.sum(axis=1) - np.diag(confusion)\n",
    "TP = np.diag(confusion)\n",
    "TN = confusion.sum() - (FP + FN + TP)\n",
    "FP = FP.astype(float)\n",
    "FN = FN.astype(float)\n",
    "TP = TP.astype(float)\n",
    "TN = TN.astype(float)\n",
    "\n",
    "sensitivity = TP/(TP+FN)        # Sensitivity\n",
    "\n",
    "specificty = TN/(TN+FP)         # Specificity\n",
    "\n",
    "ACC = (TP+TN)/(TP+FP+FN+TN)     # Overall accuracy for each class"
   ]
  },
  {
   "cell_type": "code",
   "execution_count": 71,
   "metadata": {},
   "outputs": [
    {
     "data": {
      "text/plain": [
       "array([0.99784483, 0.99208443, 0.99832916, 0.95167286, 0.98948752,\n",
       "       0.95934959, 0.94736842, 0.95705521])"
      ]
     },
     "execution_count": 71,
     "metadata": {},
     "output_type": "execute_result"
    }
   ],
   "source": [
    "sensitivity"
   ]
  },
  {
   "cell_type": "code",
   "execution_count": 72,
   "metadata": {},
   "outputs": [
    {
     "data": {
      "text/plain": [
       "array([0.99727679, 0.99859572, 0.9991082 , 0.9984326 , 0.9979697 ,\n",
       "       0.9994791 , 0.99805119, 0.99935584])"
      ]
     },
     "execution_count": 72,
     "metadata": {},
     "output_type": "execute_result"
    }
   ],
   "source": [
    "specificty"
   ]
  },
  {
   "cell_type": "code",
   "execution_count": 73,
   "metadata": {},
   "outputs": [
    {
     "data": {
      "text/plain": [
       "array([0.99747634, 0.99735016, 0.99899054, 0.99684543, 0.99634069,\n",
       "       0.99823344, 0.99659306, 0.9984858 ])"
      ]
     },
     "execution_count": 73,
     "metadata": {},
     "output_type": "execute_result"
    }
   ],
   "source": [
    "ACC"
   ]
  },
  {
   "cell_type": "code",
   "execution_count": 74,
   "metadata": {},
   "outputs": [
    {
     "name": "stdout",
     "output_type": "stream",
     "text": [
      "MLP average Accuracy 0.9975394321766562\n"
     ]
    }
   ],
   "source": [
    "print('MLP average Accuracy',ACC.sum()/8)"
   ]
  },
  {
   "cell_type": "code",
   "execution_count": 75,
   "metadata": {},
   "outputs": [],
   "source": [
    "FP = confusion_cnn.sum(axis=0) - np.diag(confusion_cnn) \n",
    "FN = confusion_cnn.sum(axis=1) - np.diag(confusion_cnn)\n",
    "TP = np.diag(confusion_cnn)\n",
    "TN = confusion_cnn.sum() - (FP + FN + TP)\n",
    "FP = FP.astype(float)\n",
    "FN = FN.astype(float)\n",
    "TP = TP.astype(float)\n",
    "TN = TN.astype(float)\n",
    "\n",
    "sensitivity = TP/(TP+FN)        # Sensitivity\n",
    "\n",
    "specificty = TN/(TN+FP)         # Specificity\n",
    "\n",
    "ACC = (TP+TN)/(TP+FP+FN+TN)     # Overall accuracy for each class"
   ]
  },
  {
   "cell_type": "code",
   "execution_count": 76,
   "metadata": {
    "scrolled": true
   },
   "outputs": [
    {
     "name": "stdout",
     "output_type": "stream",
     "text": [
      "[0.99928161 0.99736148 0.99415205 0.95167286 0.99540079 0.94308943\n",
      " 0.96929825 0.96319018]\n"
     ]
    }
   ],
   "source": [
    "print(sensitivity)"
   ]
  },
  {
   "cell_type": "code",
   "execution_count": 77,
   "metadata": {},
   "outputs": [
    {
     "data": {
      "text/plain": [
       "array([0.99824937, 0.99828366, 1.        , 0.99882445, 0.99687646,\n",
       "       0.9994791 , 0.99948032, 0.9996135 ])"
      ]
     },
     "execution_count": 77,
     "metadata": {},
     "output_type": "execute_result"
    }
   ],
   "source": [
    "specificty"
   ]
  },
  {
   "cell_type": "code",
   "execution_count": 78,
   "metadata": {},
   "outputs": [
    {
     "data": {
      "text/plain": [
       "array([0.99861199, 0.99810726, 0.99911672, 0.99722397, 0.99659306,\n",
       "       0.99772871, 0.99861199, 0.99886435])"
      ]
     },
     "execution_count": 78,
     "metadata": {},
     "output_type": "execute_result"
    }
   ],
   "source": [
    "ACC"
   ]
  },
  {
   "cell_type": "code",
   "execution_count": 79,
   "metadata": {},
   "outputs": [
    {
     "name": "stdout",
     "output_type": "stream",
     "text": [
      "CNN average Accuracy 0.9981072555205047\n"
     ]
    }
   ],
   "source": [
    "print('CNN average Accuracy',ACC.sum()/8)"
   ]
  },
  {
   "cell_type": "code",
   "execution_count": 80,
   "metadata": {},
   "outputs": [],
   "source": [
    "FP = confusion_rnn.sum(axis=0) - np.diag(confusion_rnn) \n",
    "FN = confusion_rnn.sum(axis=1) - np.diag(confusion_rnn)\n",
    "TP = np.diag(confusion_rnn)\n",
    "TN = confusion_rnn.sum() - (FP + FN + TP)\n",
    "FP = FP.astype(float)\n",
    "FN = FN.astype(float)\n",
    "TP = TP.astype(float)\n",
    "TN = TN.astype(float)\n",
    "\n",
    "sensitivity = TP/(TP+FN)        # Sensitivity\n",
    "\n",
    "specificty = TN/(TN+FP)         # Specificity\n",
    "\n",
    "ACC = (TP+TN)/(TP+FP+FN+TN)     # Overall accuracy for each class"
   ]
  },
  {
   "cell_type": "code",
   "execution_count": 81,
   "metadata": {},
   "outputs": [
    {
     "name": "stdout",
     "output_type": "stream",
     "text": [
      "[0.99928161 0.99868074 0.99916458 0.96654275 0.99408673 0.96341463\n",
      " 0.98684211 0.99386503]\n"
     ]
    }
   ],
   "source": [
    "print(sensitivity)"
   ]
  },
  {
   "cell_type": "code",
   "execution_count": 82,
   "metadata": {},
   "outputs": [
    {
     "data": {
      "text/plain": [
       "array([0.99922194, 0.99843969, 0.99970273, 0.99960815, 0.99921912,\n",
       "       1.        , 0.99870079, 0.99974233])"
      ]
     },
     "execution_count": 82,
     "metadata": {},
     "output_type": "execute_result"
    }
   ],
   "source": [
    "specificty"
   ]
  },
  {
   "cell_type": "code",
   "execution_count": 83,
   "metadata": {},
   "outputs": [
    {
     "data": {
      "text/plain": [
       "array([0.9992429 , 0.9984858 , 0.99962145, 0.9984858 , 0.99823344,\n",
       "       0.99886435, 0.99835962, 0.99962145])"
      ]
     },
     "execution_count": 83,
     "metadata": {},
     "output_type": "execute_result"
    }
   ],
   "source": [
    "ACC"
   ]
  },
  {
   "cell_type": "code",
   "execution_count": 84,
   "metadata": {},
   "outputs": [
    {
     "name": "stdout",
     "output_type": "stream",
     "text": [
      "RNN average Accuracy 0.9988643533123029\n"
     ]
    }
   ],
   "source": [
    "print('RNN average Accuracy',ACC.sum()/8)"
   ]
  },
  {
   "cell_type": "code",
   "execution_count": null,
   "metadata": {},
   "outputs": [],
   "source": []
  },
  {
   "cell_type": "code",
   "execution_count": null,
   "metadata": {},
   "outputs": [],
   "source": []
  }
 ],
 "metadata": {
  "kernelspec": {
   "display_name": "Python 3",
   "language": "python",
   "name": "python3"
  },
  "language_info": {
   "codemirror_mode": {
    "name": "ipython",
    "version": 3
   },
   "file_extension": ".py",
   "mimetype": "text/x-python",
   "name": "python",
   "nbconvert_exporter": "python",
   "pygments_lexer": "ipython3",
   "version": "3.7.3"
  }
 },
 "nbformat": 4,
 "nbformat_minor": 2
}
